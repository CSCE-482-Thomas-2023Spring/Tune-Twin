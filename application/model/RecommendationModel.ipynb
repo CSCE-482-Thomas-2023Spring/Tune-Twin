{
  "cells": [
    {
      "cell_type": "code",
      "execution_count": null,
      "metadata": {
        "colab": {
          "base_uri": "https://localhost:8080/"
        },
        "id": "rDApkkwOtG_Y",
        "outputId": "2dd6ec8d-9786-4e9e-dd14-720d3d7e9497"
      },
      "outputs": [
        {
          "output_type": "stream",
          "name": "stdout",
          "text": [
            "Mounted at /content/drive\n"
          ]
        }
      ],
      "source": [
        "# Mount Google Drive so that training data can be used\n",
        "def mount_drive():\n",
        "  from google.colab import drive\n",
        "  drive.mount('/content/drive')\n",
        "\n",
        "mount_drive()"
      ]
    },
    {
      "cell_type": "code",
      "execution_count": null,
      "metadata": {
        "id": "Ih_0TDpsZsts"
      },
      "outputs": [],
      "source": [
        "import tensorflow as tf\n",
        "from tensorflow.keras import layers, losses\n",
        "from tensorflow.keras.models import Model\n",
        "\n",
        "import numpy as np\n"
      ]
    },
    {
      "cell_type": "code",
      "execution_count": null,
      "metadata": {
        "id": "IXbUCjUP1Eqf"
      },
      "outputs": [],
      "source": [
        "# load data\n",
        "import pandas as pd\n",
        "\n",
        "song_data = pd.read_csv(\"/content/drive/Shareddrives/Cop Detectors /Class Work/song_data/songdatamerge.csv\")"
      ]
    },
    {
      "cell_type": "code",
      "execution_count": null,
      "metadata": {
        "colab": {
          "base_uri": "https://localhost:8080/"
        },
        "id": "cNBHLuXQ1rZ7",
        "outputId": "f9c5d848-b758-4445-c5ce-fe19cb27c9bf"
      },
      "outputs": [
        {
          "output_type": "stream",
          "name": "stdout",
          "text": [
            "Index(['id', 'name', 'album', 'album_id', 'artists', 'artist_ids',\n",
            "       'track_number', 'disc_number', 'explicit', 'danceability', 'energy',\n",
            "       'key', 'loudness', 'mode', 'speechiness', 'acousticness',\n",
            "       'instrumentalness', 'liveness', 'valence', 'tempo', 'duration_ms',\n",
            "       'time_signature', 'year', 'release_date'],\n",
            "      dtype='object')\n",
            "       danceability        energy      loudness          mode   speechiness  \\\n",
            "count  1.204025e+06  1.204025e+06  1.204025e+06  1.204025e+06  1.204025e+06   \n",
            "mean   4.930565e-01  5.095363e-01 -1.180870e+01  6.714595e-01  8.438219e-02   \n",
            "std    1.896694e-01  2.946839e-01  6.982132e+00  4.696827e-01  1.159914e-01   \n",
            "min    0.000000e+00  0.000000e+00 -6.000000e+01  0.000000e+00  0.000000e+00   \n",
            "25%    3.560000e-01  2.520000e-01 -1.525400e+01  0.000000e+00  3.510000e-02   \n",
            "50%    5.010000e-01  5.240000e-01 -9.791000e+00  1.000000e+00  4.460000e-02   \n",
            "75%    6.330000e-01  7.660000e-01 -6.717000e+00  1.000000e+00  7.230000e-02   \n",
            "max    1.000000e+00  1.000000e+00  7.234000e+00  1.000000e+00  9.690000e-01   \n",
            "\n",
            "       acousticness  instrumentalness      liveness       valence  \\\n",
            "count  1.204025e+06      1.204025e+06  1.204025e+06  1.204025e+06   \n",
            "mean   4.467511e-01      2.828605e-01  2.015994e-01  4.279866e-01   \n",
            "std    3.852014e-01      3.762844e-01  1.804591e-01  2.704846e-01   \n",
            "min    0.000000e+00      0.000000e+00  0.000000e+00  0.000000e+00   \n",
            "25%    3.760000e-02      7.600000e-06  9.680000e-02  1.910000e-01   \n",
            "50%    3.890000e-01      8.080000e-03  1.250000e-01  4.030000e-01   \n",
            "75%    8.610000e-01      7.190000e-01  2.450000e-01  6.440000e-01   \n",
            "max    9.960000e-01      1.000000e+00  1.000000e+00  1.000000e+00   \n",
            "\n",
            "              tempo           key  \n",
            "count  1.204025e+06  1.204025e+06  \n",
            "mean   1.176344e+02  5.194151e+00  \n",
            "std    3.093705e+01  3.536731e+00  \n",
            "min    0.000000e+00  0.000000e+00  \n",
            "25%    9.405400e+01  2.000000e+00  \n",
            "50%    1.167260e+02  5.000000e+00  \n",
            "75%    1.370460e+02  8.000000e+00  \n",
            "max    2.489340e+02  1.100000e+01  \n",
            "(1003220, 11)\n",
            "(250805, 11)\n"
          ]
        }
      ],
      "source": [
        "print(song_data.columns)\n",
        "\n",
        "\n",
        "# process data to fit into feature set\n",
        "feature_list = ['danceability',\n",
        "              'energy',\n",
        "              'loudness',\n",
        "              'mode',\n",
        "              'speechiness',\n",
        "              'acousticness',\n",
        "              'instrumentalness',\n",
        "              'liveness',\n",
        "              'valence',\n",
        "              'tempo',\n",
        "              'key',]\n",
        "features = song_data[feature_list]\n",
        "print(features.describe())\n",
        "\n",
        "# normalize data\n",
        "features = tf.keras.utils.normalize(features.values)\n",
        "\n",
        "# add random values\n",
        "noise_vecs = np.random.rand(50000, 11)\n",
        "\n",
        "features = np.vstack((features, noise_vecs))\n",
        "\n",
        "# shuffle data\n",
        "np.random.shuffle(features)\n",
        "\n",
        "\n",
        "# reshape data into a training set\n",
        "slice_index = int(len(features)*0.8)\n",
        "x_train = features[:slice_index]\n",
        "x_test = features[slice_index:]\n",
        "\n",
        "print(x_train.shape)\n",
        "print(x_test.shape)"
      ]
    },
    {
      "cell_type": "code",
      "execution_count": null,
      "metadata": {
        "id": "flbPTmZcvzm9"
      },
      "outputs": [],
      "source": [
        "# Unsupervised Model\n",
        "# In this case, an autoencoder.\n",
        "\n",
        "# We will take in the following features (for now):\n",
        "# acousticness (0.0 to 1.0)\n",
        "# danceability (0.0 to 1.0)\n",
        "# energy (0.0 to 1.0)\n",
        "# key (-1 to 11), 0 = C\n",
        "# liveness (0.0 to 1.0?)\n",
        "# loudness (-60dB to 0 dB)\n",
        "# tempo (BPM)\n",
        "\n",
        "\n",
        "\n",
        "# For now, using this dataset from Kaggle:\n",
        "# It has 1.2 million Spotify songs' features\n",
        "# https://www.kaggle.com/datasets/rodolfofigueroa/spotify-12m-songs?resource=download\n",
        "\n",
        "\n",
        "# Each feature will be a node in the first layer\n",
        "# Each new layer will reduce the number of nodes by 1\n",
        "# So there will be a 7 node layer, then a 6 node layer, then 5, and so on # I'm not currently sure whether this approach is best for encoding, because\n",
        "# it could be the case that much information is lost if we go down to 1 layer,\n",
        "# to the point of it becoming useless.\n",
        "# Also, stepping down faster (like halving the number of nodes) might be better.\n",
        "# Then there will be a sequence of decoding the information back up to 7 dimensions\n",
        "# This is so that we can verify that the encoding maintained the original information\n",
        "# Otherwise we could not train the model weights.\n",
        "\n",
        "# We can play with and research different architectures.\n",
        "\n",
        "\n",
        "# using this resource: https://towardsdatascience.com/unsupervised-machine-learning-example-in-keras-8c8bf9e63ee0\n",
        "# and https://www.tensorflow.org/api_docs/python/tf/keras/Sequential\n",
        "# and MAINLY https://www.tensorflow.org/tutorials/generative/autoencoder\n",
        "\n",
        "# latent dimensions: The number of dimensions in the compressed representation\n",
        "\n",
        "class Autoencoder(Model):\n",
        "  def __init__(self):\n",
        "    super(Autoencoder, self).__init__()\n",
        "    self.encoder = tf.keras.Sequential([\n",
        "        layers.Flatten(),\n",
        "        layers.Dense(11, activation='tanh'),\n",
        "        layers.Dense(12, activation='tanh'),\n",
        "        layers.Dense(13, activation='tanh'),\n",
        "        layers.Dense(14, activation='tanh'),\n",
        "        layers.Dense(15, activation='tanh'),\n",
        "        layers.Dense(16, activation='tanh'),\n",
        "    ])\n",
        "    self.decoder = tf.keras.Sequential([\n",
        "        layers.Dense(16, activation='tanh'),\n",
        "        layers.Dense(15, activation='tanh'),\n",
        "        layers.Dense(14, activation='tanh'),\n",
        "        layers.Dense(13, activation='tanh'),\n",
        "        layers.Dense(12, activation='tanh'),\n",
        "        layers.Dense(11, activation='tanh'),\n",
        "    ])\n",
        "\n",
        "  def call(self, x):\n",
        "    encoded = self.encoder(x)\n",
        "    decoded = self.decoder(encoded)\n",
        "    return decoded\n",
        "\n",
        "autoencoder = Autoencoder()"
      ]
    },
    {
      "cell_type": "code",
      "execution_count": null,
      "metadata": {
        "id": "Z8Ix2jn0gZxx"
      },
      "outputs": [],
      "source": [
        "from keras import callbacks \n",
        "from keras.callbacks import ModelCheckpoint\n",
        "autoencoder.compile(optimizer='adam', \n",
        "                    loss=losses.MeanAbsoluteError(),\n",
        "                    metrics=[[\"accuracy\",]])\n",
        "\n",
        "checkpoint = ModelCheckpoint(filepath='/content/drive/Shareddrives/Cop Detectors /ML Models/weights11d_04-09-23/',\n",
        "                             monitor=\"val_loss\",\n",
        "                             save_weights_only=True,\n",
        "                             save_best_only=True,)"
      ]
    },
    {
      "cell_type": "code",
      "execution_count": null,
      "metadata": {
        "colab": {
          "base_uri": "https://localhost:8080/"
        },
        "id": "7QUBVbKn4Dpk",
        "outputId": "e2c18ae4-1d4c-4e7a-bc03-b16489c558a9"
      },
      "outputs": [
        {
          "output_type": "stream",
          "name": "stdout",
          "text": [
            "Epoch 1/100\n",
            "25081/25081 [==============================] - 167s 7ms/step - loss: 0.0113 - accuracy: 0.9722 - val_loss: 0.0080 - val_accuracy: 0.9763\n",
            "Epoch 2/100\n",
            "25081/25081 [==============================] - 158s 6ms/step - loss: 0.0083 - accuracy: 0.9770 - val_loss: 0.0078 - val_accuracy: 0.9782\n",
            "Epoch 3/100\n",
            "25081/25081 [==============================] - 160s 6ms/step - loss: 0.0075 - accuracy: 0.9786 - val_loss: 0.0070 - val_accuracy: 0.9791\n",
            "Epoch 4/100\n",
            "25081/25081 [==============================] - 159s 6ms/step - loss: 0.0072 - accuracy: 0.9791 - val_loss: 0.0069 - val_accuracy: 0.9794\n",
            "Epoch 5/100\n",
            "25081/25081 [==============================] - 159s 6ms/step - loss: 0.0070 - accuracy: 0.9791 - val_loss: 0.0067 - val_accuracy: 0.9791\n",
            "Epoch 6/100\n",
            "25081/25081 [==============================] - 157s 6ms/step - loss: 0.0068 - accuracy: 0.9791 - val_loss: 0.0068 - val_accuracy: 0.9801\n",
            "Epoch 7/100\n",
            "25081/25081 [==============================] - 164s 7ms/step - loss: 0.0064 - accuracy: 0.9803 - val_loss: 0.0062 - val_accuracy: 0.9812\n",
            "Epoch 8/100\n",
            "25081/25081 [==============================] - 156s 6ms/step - loss: 0.0062 - accuracy: 0.9814 - val_loss: 0.0061 - val_accuracy: 0.9815\n",
            "Epoch 9/100\n",
            "25081/25081 [==============================] - 164s 7ms/step - loss: 0.0061 - accuracy: 0.9814 - val_loss: 0.0057 - val_accuracy: 0.9818\n",
            "Epoch 10/100\n",
            "25081/25081 [==============================] - 163s 6ms/step - loss: 0.0060 - accuracy: 0.9818 - val_loss: 0.0063 - val_accuracy: 0.9813\n",
            "Epoch 11/100\n",
            "25081/25081 [==============================] - 163s 6ms/step - loss: 0.0059 - accuracy: 0.9820 - val_loss: 0.0056 - val_accuracy: 0.9829\n",
            "Epoch 12/100\n",
            "25081/25081 [==============================] - 156s 6ms/step - loss: 0.0057 - accuracy: 0.9818 - val_loss: 0.0053 - val_accuracy: 0.9826\n",
            "Epoch 13/100\n",
            "25081/25081 [==============================] - 163s 7ms/step - loss: 0.0056 - accuracy: 0.9820 - val_loss: 0.0051 - val_accuracy: 0.9827\n",
            "Epoch 14/100\n",
            "25081/25081 [==============================] - 163s 6ms/step - loss: 0.0055 - accuracy: 0.9820 - val_loss: 0.0053 - val_accuracy: 0.9828\n",
            "Epoch 15/100\n",
            "25081/25081 [==============================] - 169s 7ms/step - loss: 0.0054 - accuracy: 0.9821 - val_loss: 0.0054 - val_accuracy: 0.9818\n",
            "Epoch 16/100\n",
            "25081/25081 [==============================] - 159s 6ms/step - loss: 0.0054 - accuracy: 0.9823 - val_loss: 0.0055 - val_accuracy: 0.9826\n",
            "Epoch 17/100\n",
            "25081/25081 [==============================] - 160s 6ms/step - loss: 0.0054 - accuracy: 0.9823 - val_loss: 0.0051 - val_accuracy: 0.9831\n",
            "Epoch 18/100\n",
            "25081/25081 [==============================] - 162s 6ms/step - loss: 0.0053 - accuracy: 0.9824 - val_loss: 0.0054 - val_accuracy: 0.9836\n",
            "Epoch 19/100\n",
            "25081/25081 [==============================] - 164s 7ms/step - loss: 0.0053 - accuracy: 0.9823 - val_loss: 0.0052 - val_accuracy: 0.9832\n",
            "Epoch 20/100\n",
            "25081/25081 [==============================] - 162s 6ms/step - loss: 0.0053 - accuracy: 0.9824 - val_loss: 0.0057 - val_accuracy: 0.9826\n",
            "Epoch 21/100\n",
            "25081/25081 [==============================] - 157s 6ms/step - loss: 0.0052 - accuracy: 0.9824 - val_loss: 0.0051 - val_accuracy: 0.9838\n",
            "Epoch 22/100\n",
            "25081/25081 [==============================] - 157s 6ms/step - loss: 0.0052 - accuracy: 0.9824 - val_loss: 0.0051 - val_accuracy: 0.9832\n",
            "Epoch 23/100\n",
            "25081/25081 [==============================] - 164s 7ms/step - loss: 0.0051 - accuracy: 0.9825 - val_loss: 0.0051 - val_accuracy: 0.9834\n",
            "Epoch 24/100\n",
            "25081/25081 [==============================] - 163s 7ms/step - loss: 0.0051 - accuracy: 0.9825 - val_loss: 0.0051 - val_accuracy: 0.9828\n",
            "Epoch 25/100\n",
            "25081/25081 [==============================] - 164s 7ms/step - loss: 0.0051 - accuracy: 0.9826 - val_loss: 0.0052 - val_accuracy: 0.9821\n",
            "Epoch 26/100\n",
            "25081/25081 [==============================] - 164s 7ms/step - loss: 0.0051 - accuracy: 0.9826 - val_loss: 0.0050 - val_accuracy: 0.9824\n",
            "Epoch 27/100\n",
            "25081/25081 [==============================] - 158s 6ms/step - loss: 0.0051 - accuracy: 0.9826 - val_loss: 0.0051 - val_accuracy: 0.9829\n",
            "Epoch 28/100\n",
            "25081/25081 [==============================] - 159s 6ms/step - loss: 0.0051 - accuracy: 0.9825 - val_loss: 0.0049 - val_accuracy: 0.9829\n",
            "Epoch 29/100\n",
            "25081/25081 [==============================] - 164s 7ms/step - loss: 0.0050 - accuracy: 0.9826 - val_loss: 0.0049 - val_accuracy: 0.9824\n",
            "Epoch 30/100\n",
            "25081/25081 [==============================] - 171s 7ms/step - loss: 0.0050 - accuracy: 0.9826 - val_loss: 0.0050 - val_accuracy: 0.9829\n",
            "Epoch 31/100\n",
            "25081/25081 [==============================] - 161s 6ms/step - loss: 0.0050 - accuracy: 0.9825 - val_loss: 0.0050 - val_accuracy: 0.9830\n",
            "Epoch 32/100\n",
            "25081/25081 [==============================] - 160s 6ms/step - loss: 0.0050 - accuracy: 0.9826 - val_loss: 0.0050 - val_accuracy: 0.9827\n",
            "Epoch 33/100\n",
            "25081/25081 [==============================] - 171s 7ms/step - loss: 0.0050 - accuracy: 0.9826 - val_loss: 0.0049 - val_accuracy: 0.9830\n",
            "Epoch 34/100\n",
            "25081/25081 [==============================] - 171s 7ms/step - loss: 0.0050 - accuracy: 0.9826 - val_loss: 0.0055 - val_accuracy: 0.9834\n",
            "Epoch 35/100\n",
            "25081/25081 [==============================] - 165s 7ms/step - loss: 0.0050 - accuracy: 0.9826 - val_loss: 0.0047 - val_accuracy: 0.9836\n",
            "Epoch 36/100\n",
            "25081/25081 [==============================] - 166s 7ms/step - loss: 0.0050 - accuracy: 0.9826 - val_loss: 0.0048 - val_accuracy: 0.9831\n",
            "Epoch 37/100\n",
            "25081/25081 [==============================] - 157s 6ms/step - loss: 0.0050 - accuracy: 0.9826 - val_loss: 0.0047 - val_accuracy: 0.9836\n",
            "Epoch 38/100\n",
            "25081/25081 [==============================] - 165s 7ms/step - loss: 0.0049 - accuracy: 0.9827 - val_loss: 0.0050 - val_accuracy: 0.9829\n",
            "Epoch 39/100\n",
            "25081/25081 [==============================] - 157s 6ms/step - loss: 0.0049 - accuracy: 0.9827 - val_loss: 0.0049 - val_accuracy: 0.9829\n",
            "Epoch 40/100\n",
            "25081/25081 [==============================] - 164s 7ms/step - loss: 0.0049 - accuracy: 0.9826 - val_loss: 0.0048 - val_accuracy: 0.9830\n",
            "Epoch 41/100\n",
            "25081/25081 [==============================] - 164s 7ms/step - loss: 0.0049 - accuracy: 0.9827 - val_loss: 0.0050 - val_accuracy: 0.9828\n",
            "Epoch 42/100\n",
            "25081/25081 [==============================] - 165s 7ms/step - loss: 0.0049 - accuracy: 0.9827 - val_loss: 0.0048 - val_accuracy: 0.9832\n",
            "Epoch 43/100\n",
            "25081/25081 [==============================] - 162s 6ms/step - loss: 0.0049 - accuracy: 0.9828 - val_loss: 0.0050 - val_accuracy: 0.9827\n",
            "Epoch 44/100\n",
            "25081/25081 [==============================] - 162s 6ms/step - loss: 0.0049 - accuracy: 0.9827 - val_loss: 0.0050 - val_accuracy: 0.9829\n",
            "Epoch 45/100\n",
            "25081/25081 [==============================] - 164s 7ms/step - loss: 0.0049 - accuracy: 0.9828 - val_loss: 0.0048 - val_accuracy: 0.9830\n",
            "Epoch 46/100\n",
            "25081/25081 [==============================] - 163s 6ms/step - loss: 0.0049 - accuracy: 0.9826 - val_loss: 0.0046 - val_accuracy: 0.9833\n",
            "Epoch 47/100\n",
            "25081/25081 [==============================] - 164s 7ms/step - loss: 0.0049 - accuracy: 0.9827 - val_loss: 0.0047 - val_accuracy: 0.9835\n",
            "Epoch 48/100\n",
            "25081/25081 [==============================] - 162s 6ms/step - loss: 0.0049 - accuracy: 0.9827 - val_loss: 0.0052 - val_accuracy: 0.9835\n",
            "Epoch 49/100\n",
            "25081/25081 [==============================] - 166s 7ms/step - loss: 0.0049 - accuracy: 0.9827 - val_loss: 0.0050 - val_accuracy: 0.9826\n",
            "Epoch 50/100\n",
            "25081/25081 [==============================] - 160s 6ms/step - loss: 0.0049 - accuracy: 0.9827 - val_loss: 0.0051 - val_accuracy: 0.9827\n",
            "Epoch 51/100\n",
            "25081/25081 [==============================] - 171s 7ms/step - loss: 0.0049 - accuracy: 0.9827 - val_loss: 0.0051 - val_accuracy: 0.9833\n",
            "Epoch 52/100\n",
            "25081/25081 [==============================] - 165s 7ms/step - loss: 0.0049 - accuracy: 0.9827 - val_loss: 0.0049 - val_accuracy: 0.9831\n",
            "Epoch 53/100\n",
            "25081/25081 [==============================] - 171s 7ms/step - loss: 0.0049 - accuracy: 0.9828 - val_loss: 0.0049 - val_accuracy: 0.9838\n",
            "Epoch 54/100\n",
            "25081/25081 [==============================] - 169s 7ms/step - loss: 0.0049 - accuracy: 0.9828 - val_loss: 0.0048 - val_accuracy: 0.9826\n",
            "Epoch 55/100\n",
            "25081/25081 [==============================] - 165s 7ms/step - loss: 0.0049 - accuracy: 0.9827 - val_loss: 0.0046 - val_accuracy: 0.9825\n",
            "Epoch 56/100\n",
            "25081/25081 [==============================] - 158s 6ms/step - loss: 0.0049 - accuracy: 0.9827 - val_loss: 0.0047 - val_accuracy: 0.9830\n",
            "Epoch 57/100\n",
            "25081/25081 [==============================] - 166s 7ms/step - loss: 0.0049 - accuracy: 0.9828 - val_loss: 0.0046 - val_accuracy: 0.9834\n",
            "Epoch 58/100\n",
            "25081/25081 [==============================] - 168s 7ms/step - loss: 0.0048 - accuracy: 0.9828 - val_loss: 0.0045 - val_accuracy: 0.9831\n",
            "Epoch 59/100\n",
            "25081/25081 [==============================] - 165s 7ms/step - loss: 0.0048 - accuracy: 0.9828 - val_loss: 0.0049 - val_accuracy: 0.9829\n",
            "Epoch 60/100\n",
            "25081/25081 [==============================] - 158s 6ms/step - loss: 0.0048 - accuracy: 0.9828 - val_loss: 0.0045 - val_accuracy: 0.9835\n",
            "Epoch 61/100\n",
            "25081/25081 [==============================] - 165s 7ms/step - loss: 0.0048 - accuracy: 0.9828 - val_loss: 0.0053 - val_accuracy: 0.9834\n",
            "Epoch 62/100\n",
            "25081/25081 [==============================] - 158s 6ms/step - loss: 0.0048 - accuracy: 0.9828 - val_loss: 0.0048 - val_accuracy: 0.9833\n",
            "Epoch 63/100\n",
            "25081/25081 [==============================] - 169s 7ms/step - loss: 0.0048 - accuracy: 0.9828 - val_loss: 0.0048 - val_accuracy: 0.9828\n",
            "Epoch 64/100\n",
            "25081/25081 [==============================] - 170s 7ms/step - loss: 0.0048 - accuracy: 0.9828 - val_loss: 0.0051 - val_accuracy: 0.9832\n",
            "Epoch 65/100\n",
            "25081/25081 [==============================] - 170s 7ms/step - loss: 0.0048 - accuracy: 0.9829 - val_loss: 0.0046 - val_accuracy: 0.9835\n",
            "Epoch 66/100\n",
            "25081/25081 [==============================] - 170s 7ms/step - loss: 0.0048 - accuracy: 0.9829 - val_loss: 0.0045 - val_accuracy: 0.9831\n",
            "Epoch 67/100\n",
            "25081/25081 [==============================] - 162s 6ms/step - loss: 0.0048 - accuracy: 0.9829 - val_loss: 0.0047 - val_accuracy: 0.9831\n",
            "Epoch 68/100\n",
            "25081/25081 [==============================] - 166s 7ms/step - loss: 0.0048 - accuracy: 0.9829 - val_loss: 0.0048 - val_accuracy: 0.9833\n",
            "Epoch 69/100\n",
            "25081/25081 [==============================] - 166s 7ms/step - loss: 0.0048 - accuracy: 0.9829 - val_loss: 0.0049 - val_accuracy: 0.9832\n",
            "Epoch 70/100\n",
            "25081/25081 [==============================] - 158s 6ms/step - loss: 0.0048 - accuracy: 0.9829 - val_loss: 0.0052 - val_accuracy: 0.9823\n",
            "Epoch 71/100\n",
            "25081/25081 [==============================] - 166s 7ms/step - loss: 0.0048 - accuracy: 0.9829 - val_loss: 0.0047 - val_accuracy: 0.9830\n",
            "Epoch 72/100\n",
            "16033/25081 [==================>...........] - ETA: 53s - loss: 0.0048 - accuracy: 0.9829"
          ]
        }
      ],
      "source": [
        "autoencoder.fit(x_train, x_train,\n",
        "                epochs=100,\n",
        "                shuffle=True,\n",
        "                validation_split=0.2, callbacks=[checkpoint])"
      ]
    },
    {
      "cell_type": "code",
      "execution_count": null,
      "metadata": {
        "colab": {
          "base_uri": "https://localhost:8080/"
        },
        "id": "5Y5CBtUqt6I4",
        "outputId": "fe14ffb4-94bb-461d-92cc-59045e955e1f"
      },
      "outputs": [
        {
          "name": "stdout",
          "output_type": "stream",
          "text": [
            "8012/8012 [==============================] - 22s 3ms/step - loss: 0.0053 - accuracy: 0.9831\n"
          ]
        },
        {
          "data": {
            "text/plain": [
              "[0.005314918234944344, 0.98306804895401]"
            ]
          },
          "execution_count": 8,
          "metadata": {},
          "output_type": "execute_result"
        }
      ],
      "source": [
        "autoencoder.evaluate(x_test, x_test)"
      ]
    },
    {
      "cell_type": "code",
      "execution_count": null,
      "metadata": {
        "id": "yNj_wJrea1gk"
      },
      "outputs": [],
      "source": [
        "#sdmerge = pd.read_csv(\"/content/drive/Shareddrives/Cop Detectors /Class Work/song_data/songdatamerge.csv\")"
      ]
    },
    {
      "cell_type": "code",
      "execution_count": null,
      "metadata": {
        "id": "zx-aUAIqbPQH"
      },
      "outputs": [],
      "source": [
        "feature_list7 = ['acousticness',\n",
        "                'danceability',\n",
        "                'energy',\n",
        "                'key',\n",
        "                'liveness',\n",
        "                'loudness',\n",
        "                'tempo']"
      ]
    },
    {
      "cell_type": "code",
      "execution_count": null,
      "metadata": {
        "id": "zEq_HEEAa1SW"
      },
      "outputs": [],
      "source": [
        "featurevals = song_data[feature_list].values\n",
        "featurevals = tf.keras.utils.normalize(featurevals)"
      ]
    },
    {
      "cell_type": "code",
      "execution_count": null,
      "metadata": {
        "colab": {
          "base_uri": "https://localhost:8080/"
        },
        "id": "tjM04pjXk986",
        "outputId": "49d70a89-8642-43f4-b113-b71fb71cabda"
      },
      "outputs": [
        {
          "name": "stdout",
          "output_type": "stream",
          "text": [
            "[[ 2.20596786e-04  3.97243254e-03  8.26604048e-03  9.21266271e-08\n",
            "   5.91638889e-02  3.00890635e-03 -4.56322623e-02  8.45198413e-03\n",
            "   6.14459247e-04  9.96539641e-01  3.38079365e-02  4.25134802e-03]]\n",
            "\n",
            "[[ 0.01587676  0.1045413   0.00491191  0.34323314 -0.06747051 -0.08069133\n",
            "  -0.00589121  0.01527525  0.01618507  0.00364498 -0.00034935  0.10073346\n",
            "  -0.03728201  0.06286093 -0.3346168   0.19996294]]\n"
          ]
        }
      ],
      "source": [
        "print(featurevals[:1])\n",
        "print()\n",
        "print(autoencoder.encoder(featurevals[:1]).numpy())"
      ]
    },
    {
      "cell_type": "code",
      "execution_count": null,
      "metadata": {
        "colab": {
          "base_uri": "https://localhost:8080/"
        },
        "id": "ADmhJ1NPcaOD",
        "outputId": "d94ac73c-1a7c-45dc-f54b-ca9defaf471a"
      },
      "outputs": [
        {
          "name": "stdout",
          "output_type": "stream",
          "text": [
            "(1231895, 16)\n"
          ]
        }
      ],
      "source": [
        "preds = autoencoder.encoder(featurevals).numpy()\n",
        "print(preds.shape)"
      ]
    },
    {
      "cell_type": "code",
      "execution_count": null,
      "metadata": {
        "id": "LymaiF-ScZeB"
      },
      "outputs": [],
      "source": [
        "predsdf = pd.DataFrame(preds)"
      ]
    },
    {
      "cell_type": "code",
      "execution_count": null,
      "metadata": {
        "id": "D-Vus_zibf_a"
      },
      "outputs": [],
      "source": [
        "from sklearn.preprocessing import MinMaxScaler\n",
        "from sklearn.metrics.pairwise import cosine_similarity"
      ]
    },
    {
      "cell_type": "code",
      "execution_count": null,
      "metadata": {
        "id": "Yv6cH5iBmf3X"
      },
      "outputs": [],
      "source": [
        "\n",
        "scaler = MinMaxScaler()\n",
        "scaled_features = scaler.fit_transform(preds)"
      ]
    },
    {
      "cell_type": "code",
      "execution_count": null,
      "metadata": {
        "id": "NF91lo4BmfwZ"
      },
      "outputs": [],
      "source": [
        "n_songs = len(scaled_features)\n",
        "similarity_matrix = np.zeros((n_songs, n_songs))\n"
      ]
    },
    {
      "cell_type": "code",
      "execution_count": null,
      "metadata": {
        "colab": {
          "base_uri": "https://localhost:8080/"
        },
        "id": "kLajgyN0mfpu",
        "outputId": "684db264-b2c5-4e5b-d7ea-3808da43058a"
      },
      "outputs": [
        {
          "name": "stdout",
          "output_type": "stream",
          "text": [
            "Looking in indexes: https://pypi.org/simple, https://us-python.pkg.dev/colab-wheels/public/simple/\n",
            "Collecting annoy\n",
            "  Downloading annoy-1.17.1.tar.gz (647 kB)\n",
            "\u001b[2K     \u001b[90m━━━━━━━━━━━━━━━━━━━━━━━━━━━━━━━━━━━━━━\u001b[0m \u001b[32m648.0/648.0 KB\u001b[0m \u001b[31m12.1 MB/s\u001b[0m eta \u001b[36m0:00:00\u001b[0m\n",
            "\u001b[?25h  Preparing metadata (setup.py) ... \u001b[?25l\u001b[?25hdone\n",
            "Building wheels for collected packages: annoy\n",
            "  Building wheel for annoy (setup.py) ... \u001b[?25l\u001b[?25hdone\n",
            "  Created wheel for annoy: filename=annoy-1.17.1-cp39-cp39-linux_x86_64.whl size=582294 sha256=6d0d28b09b6f902b7073347a3ef64b75ca90f39a709c20fa040242e208d9b8b5\n",
            "  Stored in directory: /root/.cache/pip/wheels/5b/7d/31/9a9a4993d085bc85bee21946bce94cd5906ce99730f5467e57\n",
            "Successfully built annoy\n",
            "Installing collected packages: annoy\n",
            "Successfully installed annoy-1.17.1\n"
          ]
        }
      ],
      "source": [
        "!pip install annoy"
      ]
    },
    {
      "cell_type": "code",
      "execution_count": null,
      "metadata": {
        "id": "e48IdhLNmfit"
      },
      "outputs": [],
      "source": [
        "from sklearn.preprocessing import MinMaxScaler\n",
        "from annoy import AnnoyIndex"
      ]
    },
    {
      "cell_type": "code",
      "execution_count": null,
      "metadata": {
        "id": "aMnkvDyfmfZh"
      },
      "outputs": [],
      "source": [
        "scaler = MinMaxScaler()\n",
        "scaled_features = scaler.fit_transform(preds)\n",
        "n_features = scaled_features.shape[1]\n",
        "annoy_index = AnnoyIndex(n_features, metric='angular')"
      ]
    },
    {
      "cell_type": "code",
      "execution_count": null,
      "metadata": {
        "id": "vlMO9g4nmuxm"
      },
      "outputs": [],
      "source": [
        "for i, feature_vector in enumerate(scaled_features):\n",
        "  annoy_index.add_item(i, feature_vector)"
      ]
    },
    {
      "cell_type": "code",
      "execution_count": null,
      "metadata": {
        "colab": {
          "base_uri": "https://localhost:8080/"
        },
        "id": "AYsffZ6-mzPi",
        "outputId": "9e5e5207-5b81-44ba-d74d-90c3e63c4d75"
      },
      "outputs": [
        {
          "data": {
            "text/plain": [
              "True"
            ]
          },
          "execution_count": 22,
          "metadata": {},
          "output_type": "execute_result"
        }
      ],
      "source": [
        "n_trees = 50\n",
        "annoy_index.build(n_trees)"
      ]
    },
    {
      "cell_type": "code",
      "execution_count": null,
      "metadata": {
        "colab": {
          "base_uri": "https://localhost:8080/"
        },
        "id": "Jt3rclvJmzxU",
        "outputId": "3ef54486-2328-409e-bf1a-fcd234361fbf"
      },
      "outputs": [
        {
          "name": "stdout",
          "output_type": "stream",
          "text": [
            "1205306\n"
          ]
        }
      ],
      "source": [
        "input_track_id = '1p80LdxRV74UKvL8gnD7ky'\n",
        "input_idx = song_data.loc[song_data['id'] == input_track_id].index[0]\n",
        "print(input_idx)\n",
        "n_similar_songs = 10\n",
        "similar_song_indices = annoy_index.get_nns_by_item(input_idx, n_similar_songs + 1)[1:]\n"
      ]
    },
    {
      "cell_type": "code",
      "execution_count": null,
      "metadata": {
        "colab": {
          "base_uri": "https://localhost:8080/"
        },
        "id": "svntJYdgm0HJ",
        "outputId": "c9d86917-25a2-4bff-e127-b2e228c82528"
      },
      "outputs": [
        {
          "name": "stdout",
          "output_type": "stream",
          "text": [
            "                         name                           artists\n",
            "684872             Kick, Push                   ['Lupe Fiasco']\n",
            "1205806            Kick, Push                   ['Lupe Fiasco']\n",
            "535371   Cold Comfort Flowers            ['Fountains Of Wayne']\n",
            "828949              The Point                  ['Emily Warren']\n",
            "729109        Le Grand Cochon  ['D. Charles Speer & the Helix']\n",
            "1150099        Big Brown Eyes                      [\"Old 97's\"]\n",
            "496399                Counted            ['The 484 South Band']\n",
            "1038366            Feel Alive                  ['Dirty Proper']\n",
            "323252    Khevre, Nit Gezogrt                   ['Klezperanto']\n",
            "984223        Verdadeiro Amor                          ['Gama']\n"
          ]
        }
      ],
      "source": [
        "similar_songs = song_data.iloc[similar_song_indices]\n",
        "print(similar_songs.head(10)[['name', 'artists']])"
      ]
    },
    {
      "cell_type": "code",
      "execution_count": null,
      "metadata": {
        "colab": {
          "base_uri": "https://localhost:8080/"
        },
        "id": "-IZGxEGCgMsS",
        "outputId": "c3f02398-45a5-4f64-8e0f-826c9e5e6138"
      },
      "outputs": [
        {
          "name": "stdout",
          "output_type": "stream",
          "text": [
            "https://open.spotify.com/track/7nWutFSP2eKuQ9oZlZ53BX\n",
            "https://open.spotify.com/track/6nz35DNIzbtj5ztpDEcW1j\n",
            "https://open.spotify.com/track/3cCl6GXnsjWAeqeAN8qSN9\n",
            "https://open.spotify.com/track/0jvo85AH33ruP3757RIFdX\n",
            "https://open.spotify.com/track/4Ft5RmIt2SjPxBgqqkCf1c\n",
            "https://open.spotify.com/track/6QELg0RBFGKisdiqbROWSD\n",
            "https://open.spotify.com/track/6EvQ93hzbyKUP86vkfYCpP\n",
            "https://open.spotify.com/track/6UwZFzso8nfWJGkzbGKM85\n",
            "https://open.spotify.com/track/3mg6ICtPECfaRDINs99PKg\n",
            "https://open.spotify.com/track/7BBXfVWTr7lxgUHdYTXcF5\n"
          ]
        }
      ],
      "source": [
        "baseTrackUrl = \"https://open.spotify.com/track/\"\n",
        "for i,s in similar_songs.head(10).iterrows():\n",
        "  print(baseTrackUrl+s['id'])"
      ]
    },
    {
      "cell_type": "code",
      "execution_count": null,
      "metadata": {
        "id": "Upzg4r59i7k-"
      },
      "outputs": [],
      "source": [
        "# knn on predicted features\n",
        "from sklearn.neighbors import NearestNeighbors"
      ]
    },
    {
      "cell_type": "code",
      "execution_count": null,
      "metadata": {
        "id": "KYvRptJPi96E"
      },
      "outputs": [],
      "source": [
        "k = 10\n",
        "knn = NearestNeighbors(n_neighbors=k, metric='euclidean')\n",
        "knn.fit(scaled_features)\n",
        "# get the nearest neighbors\n",
        "distances, indices = knn.kneighbors(scaled_features, n_neighbors=k)\n",
        "indices = indices[-1]\n",
        "nearest_neighbors = []\n",
        "for i in indices:\n",
        "    nearest_neighbors.append(song_data.iloc[i]['id'])\n"
      ]
    },
    {
      "cell_type": "markdown",
      "metadata": {
        "id": "9GfkCxEHmeQ0"
      },
      "source": []
    },
    {
      "cell_type": "code",
      "execution_count": null,
      "metadata": {
        "id": "HbIzMIfQ60Xi"
      },
      "outputs": [],
      "source": [
        "from google.colab import files\n",
        "\n",
        "files.download(\"model\")"
      ]
    },
    {
      "cell_type": "code",
      "execution_count": null,
      "metadata": {
        "id": "BLVlF-RE7Vtv"
      },
      "outputs": [],
      "source": [
        "!cp -r /content/model_12d /content/drive/Shareddrives/Cop\\ Detectors\\ /ML\\ Models/model_12d"
      ]
    },
    {
      "cell_type": "code",
      "execution_count": null,
      "metadata": {
        "colab": {
          "base_uri": "https://localhost:8080/"
        },
        "id": "Mn9GBMXK-1hx",
        "outputId": "a3d5f6ac-ccb9-456a-ea66-793dfc44117d"
      },
      "outputs": [
        {
          "name": "stdout",
          "output_type": "stream",
          "text": [
            "240805\n",
            "[ 0.00465562  0.00562399  0.00497221  0.0186225   0.00151773 -0.0796205\n",
            "  0.99661098]\n",
            "(7,)\n"
          ]
        }
      ],
      "source": [
        "print(len(x_test))\n",
        "print(x_test[0])\n",
        "print(x_test[0].shape)"
      ]
    },
    {
      "cell_type": "code",
      "execution_count": null,
      "metadata": {
        "colab": {
          "base_uri": "https://localhost:8080/"
        },
        "id": "o2HBNwft3NO8",
        "outputId": "97b62fe2-bad0-4ffe-e9a4-60e16e483078"
      },
      "outputs": [
        {
          "name": "stdout",
          "output_type": "stream",
          "text": [
            "(1000, 3)\n"
          ]
        }
      ],
      "source": [
        "preds = autoencoder.encoder(x_test[:1000]).numpy()\n",
        "print(preds.shape)"
      ]
    },
    {
      "cell_type": "code",
      "execution_count": null,
      "metadata": {
        "id": "GSqDT3yeXlXK"
      },
      "outputs": [],
      "source": [
        "# TODO: PCA (preferred) or t-SNE on the features + the outputted feature(s) \n",
        "# from the unsupervised model, for dimensionality reduction"
      ]
    },
    {
      "cell_type": "code",
      "execution_count": null,
      "metadata": {
        "id": "3YWC_nZ4X3Av"
      },
      "outputs": [],
      "source": [
        "# TODO: Nearest Neighbor Search algorithm in feature space"
      ]
    },
    {
      "cell_type": "code",
      "execution_count": null,
      "metadata": {
        "id": "tPM3jrAK1FXF"
      },
      "outputs": [],
      "source": [
        "from tensorflow import keras\n",
        "from tensorflow.keras import layers\n",
        "inputs = keras.Input(shape = (x_train.shape[0], x_train.shape[1]))\n",
        "x = layers.Bidirectional(layers.LSTM(16))(inputs)\n",
        "outputs = layers.Dense(1)(x)\n",
        "model = keras.Model(inputs, outputs)\n",
        "model.compile(optimizer = \"rmsprop\", loss = \"mse\", metrics = [\"mae\"])\n",
        "print(x_train.shape)\n",
        "history = model.fit(x_train, epochs = 10, validation_split = 0.2)"
      ]
    },
    {
      "cell_type": "code",
      "execution_count": null,
      "metadata": {
        "id": "-e86cU_fFaLH"
      },
      "outputs": [],
      "source": [
        "!pip install plotly"
      ]
    },
    {
      "cell_type": "code",
      "execution_count": null,
      "metadata": {
        "id": "Pzmuiq6WAWma"
      },
      "outputs": [],
      "source": [
        "import numpy as np\n",
        "import plotly.express as px\n",
        "import pandas as pd"
      ]
    },
    {
      "cell_type": "code",
      "execution_count": null,
      "metadata": {
        "id": "JTPAeTsyFZeP"
      },
      "outputs": [],
      "source": [
        "df = pd.DataFrame(preds, columns=['X','Y','Z'])"
      ]
    },
    {
      "cell_type": "code",
      "execution_count": null,
      "metadata": {
        "colab": {
          "base_uri": "https://localhost:8080/",
          "height": 542
        },
        "id": "K3acPG4RGk7e",
        "outputId": "60db6859-fff4-4eab-a309-37bf4af923cc"
      },
      "outputs": [
        {
          "data": {
            "text/html": [
              "<html>\n",
              "<head><meta charset=\"utf-8\" /></head>\n",
              "<body>\n",
              "    <div>            <script src=\"https://cdnjs.cloudflare.com/ajax/libs/mathjax/2.7.5/MathJax.js?config=TeX-AMS-MML_SVG\"></script><script type=\"text/javascript\">if (window.MathJax && window.MathJax.Hub && window.MathJax.Hub.Config) {window.MathJax.Hub.Config({SVG: {font: \"STIX-Web\"}});}</script>                <script type=\"text/javascript\">window.PlotlyConfig = {MathJaxConfig: 'local'};</script>\n",
              "        <script src=\"https://cdn.plot.ly/plotly-2.18.2.min.js\"></script>                <div id=\"d447d761-17b6-4d3c-8de0-c2f829c6a195\" class=\"plotly-graph-div\" style=\"height:525px; width:100%;\"></div>            <script type=\"text/javascript\">                                    window.PLOTLYENV=window.PLOTLYENV || {};                                    if (document.getElementById(\"d447d761-17b6-4d3c-8de0-c2f829c6a195\")) {                    Plotly.newPlot(                        \"d447d761-17b6-4d3c-8de0-c2f829c6a195\",                        [{\"hovertemplate\":\"X=%{x}<br>Y=%{y}<br>Z=%{z}<extra></extra>\",\"legendgroup\":\"\",\"marker\":{\"color\":\"#636efa\",\"symbol\":\"circle\"},\"mode\":\"markers\",\"name\":\"\",\"scene\":\"scene\",\"showlegend\":false,\"x\":[0.034496232867240906,-0.13654343783855438,-0.07357371598482132,-0.0045952508226037025,-0.14242446422576904,0.14130359888076782,0.06067367643117905,-0.14014630019664764,0.1652349829673767,0.31168487668037415,-0.047997377812862396,0.6146650910377502,-0.22024308145046234,0.40180763602256775,-0.014487294480204582,0.14999833703041077,-0.2412755936384201,-0.24513864517211914,-0.08576717227697372,-0.45946890115737915,0.1904962956905365,-0.27626267075538635,0.2993355393409729,-0.07329391688108444,-0.1870785802602768,0.05996236205101013,-0.1572907716035843,-0.12720966339111328,-0.35504308342933655,0.24444785714149475,-0.3138708770275116,-0.03037087805569172,-0.0376502126455307,-0.2431255280971527,-0.09864039719104767,0.24854440987110138,-0.24075591564178467,0.18089886009693146,0.3778242766857147,0.0043435003608465195,0.014058363623917103,-0.10490754246711731,-0.19119304418563843,0.43045106530189514,0.12478289753198624,0.18197274208068848,-0.1725771129131317,0.5065135955810547,0.03126729279756546,0.1219598725438118,-0.29866504669189453,-0.10209666937589645,0.3708873689174652,-0.07096043229103088,-0.30624136328697205,-0.17663981020450592,-0.10068024694919586,0.17549613118171692,-0.20227915048599243,-0.16420917212963104,-0.13529108464717865,-0.10868561267852783,0.0762498676776886,-0.13185752928256989,0.13828745484352112,-0.011862815357744694,0.017677409574389458,0.22112497687339783,-0.297091543674469,0.08685394376516342,-0.05682815611362457,0.5006892085075378,-0.4579375386238098,-0.12070627510547638,0.312541663646698,0.09775329381227493,-0.5905473828315735,0.4324873387813568,0.22029553353786469,-0.1707923263311386,-0.2344486117362976,-0.14897295832633972,-0.33962908387184143,-0.06733743846416473,-0.19959302246570587,0.2033226490020752,-0.16474243998527527,-0.17400456964969635,-0.4005357623100281,-0.20012331008911133,-0.10480350255966187,-0.095604307949543,-0.12688766419887543,-0.16539496183395386,-0.20404615998268127,0.40940868854522705,0.5030044317245483,0.27140629291534424,-0.025263428688049316,0.2110424041748047,0.08725538104772568,0.04899585619568825,0.04818153381347656,-0.31940048933029175,0.1509813666343689,-0.3139779567718506,0.013983648270368576,-0.19412891566753387,-0.3090473711490631,0.061137642711400986,0.17144329845905304,-0.23509499430656433,0.583504855632782,-0.1039375364780426,0.354800283908844,-0.14878976345062256,0.1973838210105896,-0.10405804961919785,0.15631721913814545,0.08287862688302994,0.004202299751341343,0.643743634223938,-0.12129108607769012,-0.18138578534126282,0.542638897895813,0.33576133847236633,-0.0637432113289833,0.07864956557750702,-0.007147472817450762,0.11366195231676102,-0.18559612333774567,-0.1305878758430481,-0.050903189927339554,-0.23762214183807373,-0.1136833056807518,-0.06585514545440674,0.19186323881149292,-0.18025295436382294,-0.17333492636680603,-0.12364178150892258,-0.044448722153902054,-0.3298248052597046,-0.010495414026081562,0.06389299780130386,0.22651372849941254,0.2738126516342163,-0.14188475906848907,-0.1298830509185791,0.0026257531717419624,-0.030320996418595314,-0.018715402111411095,-0.0733734518289566,0.17351622879505157,0.006301393266767263,-0.09348802268505096,0.22098468244075775,0.020217806100845337,-0.08859142661094666,-0.11276264488697052,-0.21245478093624115,0.3778500258922577,0.08438419550657272,-0.27011924982070923,-0.23607657849788666,0.28326839208602905,-0.17217430472373962,-0.15838629007339478,-0.276521235704422,-0.3582918643951416,0.02372293919324875,-0.4349740147590637,0.30394211411476135,0.03901415318250656,-0.2464030385017395,-0.06790541857481003,-0.2857007086277008,-0.10369743406772614,0.12469050288200378,-0.08684384077787399,-0.39979279041290283,-0.33477064967155457,-0.025691652670502663,-0.3384462893009186,0.15468282997608185,-0.01653590425848961,-0.02691986970603466,-0.09251458942890167,0.15701940655708313,0.22113311290740967,0.5193303823471069,-0.2803105115890503,-0.402654230594635,0.20871081948280334,-0.19099503755569458,0.18133781850337982,0.12036823481321335,-0.30724605917930603,0.581887423992157,-0.24546481668949127,0.024777650833129883,0.6359829306602478,-0.07297661155462265,-0.08054620027542114,-0.24345539510250092,-0.12915408611297607,-0.01631065271794796,0.09333661943674088,-0.28009435534477234,-0.25136297941207886,-0.08439961820840836,0.05283691734075546,-0.12878157198429108,0.24740718305110931,0.14589795470237732,-0.38432538509368896,0.008299404755234718,0.027294239029288292,-0.07525020092725754,0.0004411972186062485,-0.1911422461271286,-0.2596414387226105,0.3826524615287781,0.18535123765468597,0.12935702502727509,-0.33456993103027344,-0.12573491036891937,0.09429586678743362,-0.06385108828544617,-0.2536326050758362,-0.0895143374800682,-0.21101883053779602,-0.19591733813285828,0.0586845688521862,-0.22051861882209778,-0.24761389195919037,0.35809993743896484,0.0802588015794754,0.29658395051956177,-0.13547897338867188,-0.3286762535572052,0.0572194941341877,0.1504829376935959,-0.1712997704744339,0.22703604400157928,-0.1807686984539032,0.02745596505701542,0.34045252203941345,-0.1156456395983696,-0.16203689575195312,-0.02505052275955677,-0.2630022466182709,0.0894477516412735,-0.2425413578748703,0.07157792150974274,0.04209895059466362,0.3442269265651703,0.7038446664810181,-0.28287172317504883,0.16278699040412903,0.2394304871559143,-0.1557323932647705,-0.2310609519481659,-0.2621157467365265,-0.23688369989395142,-0.09934446960687637,-0.17354482412338257,0.420247882604599,-0.21792779862880707,-0.0024084290489554405,-0.15771326422691345,0.22522935271263123,-0.34440815448760986,-0.23326796293258667,0.3422662019729614,-0.22552582621574402,-0.21733707189559937,-0.14753475785255432,0.09854340553283691,-0.10920963436365128,-0.11130411177873611,0.01654776930809021,-0.23169097304344177,-0.062077105045318604,-0.24190334975719452,-0.06410752981901169,0.06537959724664688,0.013606652617454529,-0.27462121844291687,0.01572665572166443,-0.15253432095050812,-0.37733474373817444,0.08217727392911911,0.24220412969589233,-0.27783438563346863,0.03799121081829071,-0.2593378722667694,-0.3338470160961151,-0.41722214221954346,-0.18073388934135437,0.4906313121318817,-0.521791934967041,-0.31006407737731934,-0.06646054238080978,0.3357190787792206,-0.19194743037223816,-0.2730727195739746,0.13511377573013306,-0.19878758490085602,-0.22905129194259644,-0.12383850663900375,-0.28528928756713867,0.6215822100639343,-0.017102224752306938,-0.26350507140159607,0.6899948120117188,0.07875464856624603,0.02834889106452465,0.023432038724422455,0.14970606565475464,-0.1789090484380722,0.02818770706653595,-0.21372462809085846,-0.0010183932026848197,0.32335707545280457,-0.20226527750492096,0.14252716302871704,0.056530192494392395,0.2910459637641907,-0.11712200939655304,-0.1872767060995102,-0.25856533646583557,-0.24638324975967407,0.1583937257528305,-0.4005204439163208,-0.027643408626317978,-0.009244830347597599,-0.1731695532798767,-0.126729816198349,-0.1724768429994583,0.39983421564102173,0.3292860686779022,-0.1879168152809143,-0.078921377658844,-0.007986505515873432,0.03929496183991432,-0.308651864528656,0.2647857069969177,-0.049605485051870346,0.32730793952941895,-0.2923595607280731,0.09549650549888611,0.13688941299915314,0.07626669853925705,-0.18103644251823425,-0.20778313279151917,0.17764912545681,0.06785941869020462,-0.22641047835350037,-0.0931357592344284,0.16891272366046906,-0.051020413637161255,-0.009049559012055397,0.26139572262763977,-0.2441820651292801,-0.06709231436252594,0.4797665774822235,-0.0619155615568161,0.03606640547513962,-0.0769197940826416,0.2637217938899994,-0.15248742699623108,-0.34568318724632263,-0.15371854603290558,-0.2234542965888977,0.11501338332891464,-0.1376401036977768,-0.2463851124048233,0.21635113656520844,-0.33752521872520447,-0.21499650180339813,0.13985629379749298,0.054381564259529114,0.10092366486787796,-0.12701810896396637,0.1128496453166008,-0.24032364785671234,0.5636809468269348,-0.2564106583595276,-0.031234635040163994,0.13986754417419434,0.09563707560300827,0.06900100409984589,0.10808515548706055,-0.08616451174020767,0.06605727225542068,-0.23162111639976501,0.4565364420413971,-0.03805507346987724,-0.329511821269989,-0.00577384140342474,0.28899192810058594,-0.02095595747232437,-0.14854785799980164,0.07990539819002151,-0.22901614010334015,-0.1143587976694107,0.020447947084903717,-0.3618294596672058,-0.2984972298145294,-0.2532503604888916,0.1300378292798996,0.04388042539358139,-0.10334647446870804,-0.13244982063770294,-0.12419206649065018,0.057971589267253876,0.18815158307552338,-0.12605121731758118,-0.35579949617385864,-0.2328488826751709,-0.035032738000154495,-0.17107558250427246,0.039283834397792816,-0.30891162157058716,0.18827758729457855,0.3004460334777832,-0.008178308606147766,0.22418032586574554,-0.05125618353486061,0.02743701823055744,-0.15949706733226776,-0.18902407586574554,0.08154583722352982,-0.43448406457901,0.04318004474043846,0.2679294943809509,0.3811511695384979,0.06691402941942215,-0.15456916391849518,-0.07716883718967438,-0.2626606523990631,-0.14479610323905945,0.5102924108505249,0.02374817058444023,-0.3597584366798401,-0.2121964395046234,0.271583616733551,-0.2648232877254486,-0.31195980310440063,0.044565267860889435,0.265524685382843,-0.03420744091272354,0.013546068221330643,-0.14962102472782135,0.010743974708020687,0.0482819490134716,-0.03072746843099594,-0.17761588096618652,-0.13665837049484253,-0.03382888808846474,-0.241513192653656,0.22894421219825745,-0.20740535855293274,-0.10465772449970245,-0.29490169882774353,-0.2576577365398407,0.24142171442508698,-0.04305516183376312,-0.3027993142604828,-0.1573159396648407,-0.22303548455238342,-0.19482021033763885,-0.190034419298172,-0.075340636074543,0.28903189301490784,-0.05317119136452675,0.16375207901000977,-0.1738310605287552,-0.263457715511322,-0.054408468306064606,0.041413914412260056,-0.2832907736301422,0.03087548166513443,-0.2927657663822174,-0.001054577180184424,-0.06423000246286392,-0.3168461322784424,-0.2919638454914093,0.26150447130203247,-0.21957848966121674,-0.45469963550567627,0.27663224935531616,-0.2516043782234192,-0.24955908954143524,0.032540470361709595,-0.3194502294063568,0.016181858256459236,-0.14911849796772003,-0.046321261674165726,0.4503312408924103,0.01511022262275219,-0.09801963716745377,-0.037872619926929474,-0.08333942294120789,0.44425535202026367,-0.3367726802825928,-0.06829833984375,0.2933477759361267,0.11012426018714905,-0.3999881446361542,0.06853433698415756,0.20709635317325592,-0.2584417164325714,0.34068387746810913,-0.2991233766078949,-0.11016813665628433,-0.08540807664394379,0.0646762102842331,-0.03620152920484543,-0.2307124137878418,-0.2003861665725708,-0.19573426246643066,-0.22790084779262543,0.1362636387348175,-0.23165294528007507,-0.018092794343829155,-0.2109561264514923,-0.26828455924987793,-0.055404193699359894,0.25078365206718445,-0.217805877327919,0.3671894669532776,0.30528464913368225,0.08552643656730652,0.004737993702292442,0.02296466939151287,0.01597798801958561,-0.31290486454963684,-0.3633376657962799,-0.20361685752868652,-0.12026847898960114,0.1604081094264984,0.15211604535579681,-0.1504758894443512,0.031160103157162666,0.3379083275794983,-0.15495432913303375,0.22763754427433014,-0.20433132350444794,0.09859920293092728,-0.3132246732711792,-0.3483482599258423,0.3315654695034027,0.22473418712615967,-0.08809207379817963,-0.1005866602063179,-0.15001355111598969,-0.19664205610752106,-0.25454339385032654,-0.07504905760288239,-0.367095023393631,0.061054155230522156,-0.352813184261322,-0.5552463531494141,-0.050079841166734695,-0.34570419788360596,0.012531129643321037,0.19426171481609344,0.13576355576515198,-0.03037509322166443,0.507558286190033,-0.2943209111690521,-0.011936075054109097,0.42326343059539795,-0.3886135518550873,-0.10312940180301666,-0.4553688168525696,0.3865777254104614,0.1804531067609787,-0.029920652508735657,-0.4062754511833191,0.6972944140434265,-0.2221812754869461,-0.18555095791816711,0.12122409045696259,-0.07286745309829712,-0.26418474316596985,-0.05772360786795616,0.0770682692527771,-0.2140740156173706,-0.422076940536499,-0.1509915143251419,-0.2218540906906128,-0.18396097421646118,-0.09429902583360672,0.43765881657600403,-0.2236560881137848,0.05300839990377426,0.04203930124640465,0.6503825187683105,0.3804756999015808,0.3128274977207184,0.0360804982483387,0.5681354999542236,-0.2670137286186218,-0.18319427967071533,0.3088213801383972,0.4575929343700409,-0.17391568422317505,-0.10327669233083725,-0.17991787195205688,-0.13672839105129242,-0.11251569539308548,0.21318235993385315,-0.20788469910621643,-0.1310899555683136,0.13746193051338196,-0.05523840710520744,-0.3557441532611847,0.36630958318710327,0.007845351472496986,0.2124350666999817,-0.09953664243221283,0.12164388597011566,0.1386154145002365,0.0527547262609005,-0.15478920936584473,-0.04094097390770912,0.3450107276439667,-0.019106538966298103,-0.20404884219169617,0.020869627594947815,-0.20202603936195374,0.017022885382175446,-0.10200534760951996,0.058201052248477936,-0.06452685594558716,0.05168838053941727,0.3494172692298889,-0.30750367045402527,0.24951767921447754,0.047440361231565475,-0.2939586937427521,0.48952439427375793,-0.27266570925712585,-0.19294624030590057,-0.1482999622821808,0.11867047846317291,-0.13745291531085968,0.08283337205648422,-0.194952592253685,-0.08540013432502747,0.07486218959093094,-0.1528664082288742,0.44988271594047546,-0.13937388360500336,-0.06415443867444992,0.15692275762557983,-0.11174487322568893,-0.15643727779388428,-0.029917681589722633,-0.18855427205562592,-0.19397923350334167,-0.15277232229709625,-0.06891585886478424,-0.06631866842508316,-0.17134912312030792,-0.2639268934726715,-0.0029675608966499567,0.007882721722126007,0.06496001780033112,0.5021637082099915,-0.3895470201969147,0.4427691102027893,-0.058178797364234924,-0.06807255744934082,-0.13547717034816742,-0.0663551390171051,0.014569628983736038,-0.23950925469398499,-0.3094097077846527,-0.28358006477355957,0.23457130789756775,-0.028780022636055946,0.04964819550514221,-0.3367098569869995,-0.03563631325960159,-0.0683608204126358,0.10952884703874588,0.029227109625935555,-0.2685900032520294,0.14549437165260315,-0.025265218690037727,0.05395836383104324,0.08750355988740921,0.40709376335144043,-0.18944671750068665,-0.2718493640422821,0.2000252902507782,0.20034675300121307,0.10428500175476074,0.016564827412366867,0.19685740768909454,0.12776516377925873,0.22521284222602844,-0.09642132371664047,0.009277061559259892,-0.006177878472954035,-0.11127801984548569,-0.12775000929832458,-0.19506524503231049,0.5113378763198853,-0.32131415605545044,-0.2666603922843933,-0.2058791071176529,0.062099725008010864,-0.09497038275003433,0.03869697079062462,0.09425845742225647,0.09176015108823776,-0.22132466733455658,-0.20254860818386078,0.22236579656600952,0.1562700718641281,0.09084820002317429,0.5379915237426758,0.2733278274536133,-0.4044990837574005,-0.13137871026992798,0.25617361068725586,0.06216345727443695,-0.10591956973075867,0.16658739745616913,-0.24088430404663086,-0.21904590725898743,0.5971380472183228,0.0733145922422409,-0.31281518936157227,-0.24195949733257294,0.23821242153644562,-0.09400839358568192,0.18237346410751343,-0.1686822772026062,-0.22100061178207397,-0.24414946138858795,-0.08277314156293869,0.220174640417099,0.051658570766448975,-0.11443395912647247,0.03384796157479286,0.28018298745155334,-0.08054232597351074,0.16377206146717072,-0.002049655420705676,-0.2940710484981537,0.05210224539041519,-0.027445975691080093,-0.301452100276947,0.11858275532722473,-0.3222642242908478,0.3614685833454132,0.26417234539985657,-0.06468956917524338,-0.08090198040008545,-0.32285380363464355,-0.17471960186958313,-0.35079798102378845,0.07631692290306091,0.4151371717453003,0.3830624222755432,0.3427070379257202,0.14773806929588318,0.244588240981102,-0.25999853014945984,-0.07827387005090714,0.06152573600411415,0.15894991159439087,-0.21926249563694,0.14529667794704437,-0.12983189523220062,-0.15227650105953217,0.47651687264442444,0.00657630804926157,-0.003127835923805833,0.2107882797718048,-0.16082033514976501,-0.26327773928642273,0.10938404500484467,-0.10188070684671402,0.016849307343363762,-0.28179842233657837,-0.1831171214580536,0.2519138753414154,0.29575681686401367,0.6828902363777161,-0.21629032492637634,-0.2178034782409668,0.3966771364212036,-0.12936027348041534,0.6667472720146179,-0.1343303769826889,0.20637348294258118,0.07811548560857773,-0.24635757505893707,-0.24528926610946655,-0.003182452404871583,-0.14090995490550995,0.21674679219722748,0.07669911533594131,0.21235358715057373,-0.27221009135246277,-0.18706384301185608,0.1110687106847763,-0.20404860377311707,0.3506077527999878,0.46889427304267883,-0.32124122977256775,-0.23763278126716614,0.380119264125824,-0.11850034445524216,-0.04014008119702339,0.34864890575408936,0.019570598378777504,-0.24472640454769135,-0.14155560731887817,-0.35111188888549805,-0.22497940063476562,-0.19328315556049347,0.05832843482494354,-0.2043992131948471,0.06392934173345566,0.41548222303390503,0.3311122953891754,-0.30983713269233704,-0.011861851438879967,-0.3339517414569855,-0.26613786816596985,-0.0017760822083801031,-0.23900474607944489,-0.20619814097881317,0.4115150570869446,-0.08301492780447006,0.2858816385269165,0.4217715859413147,0.23071995377540588,-0.04792299494147301,0.032524701207876205,-0.16299709677696228,-0.09188846498727798,-0.14080031216144562,0.007701612543314695,-0.3035183846950531,-0.36685892939567566,0.30319589376449585,-0.2586482763290405,-0.2894616425037384,-0.029677266255021095,-0.13075613975524902,0.16149480640888214,-0.07611951231956482,0.5305208563804626,-0.20296557247638702,-0.07857593148946762,-0.20622631907463074,-0.2176150381565094,-0.08517349511384964,0.3217657804489136,-0.21754825115203857,-0.18848693370819092,-0.15256844460964203,0.4376921057701111,0.03230658918619156,0.03271372243762016,0.24183671176433563,-0.3408771753311157,-0.18028634786605835,-0.04585850238800049,-0.2746613621711731,-0.09168796986341476,0.30465131998062134,-0.07968497276306152,-0.05080629885196686,0.06921153515577316,-0.16375978291034698,0.08205112814903259,-0.26703235507011414,0.40354540944099426,-0.28826579451560974,-0.12764553725719452,-0.3459283709526062,-0.31257933378219604,-0.3661334216594696,0.3058164417743683,-0.32047149538993835,0.041335683315992355,-0.10570419579744339,-0.09441085904836655,-0.2890288829803467,0.2010864019393921,-0.027531730011105537,-0.06697933375835419,0.37480518221855164,0.14313404262065887,-0.049625493586063385,-0.11934659630060196,0.45505550503730774,0.03142246603965759,0.31899410486221313,0.3285868763923645,-0.030280694365501404,-0.349793940782547,0.149064302444458,0.034482941031455994,-0.21549375355243683,0.16901037096977234,0.2198069840669632,-0.1482425183057785,-0.06668306142091751,-0.287807822227478,-0.15939952433109283,-0.20927444100379944,-0.27910733222961426,-0.023521164432168007,0.112954281270504,-0.13379885256290436,0.2141931802034378,0.012622646056115627,-0.22551749646663666,0.09992562979459763,-0.3517763614654541,-0.14259451627731323,0.05883118882775307,0.41838014125823975,-0.09595389664173126,-0.067233607172966,-0.056632108986377716,0.32202258706092834,-0.16697561740875244,-0.3161498010158539,0.07263417541980743,0.04391396790742874,0.06264997273683548,-0.23637859523296356,0.030395137146115303,-0.11257308721542358,-0.09673153609037399,-0.3145983815193176,-0.3343367874622345,0.4263347089290619,0.3546943962574005,0.3132399022579193,0.20606729388237,-0.2805594205856323,0.43910524249076843,-0.3802488148212433,-0.10727256536483765,0.08874054253101349,0.017023079097270966,0.015228314325213432,-0.08362594246864319,0.23932667076587677,-0.1533188670873642,-0.07361691445112228,0.0946686789393425,-0.015613194555044174,-0.30808085203170776,0.41583314538002014,0.017724234610795975,-0.07826194167137146,0.058379750698804855,0.06724592298269272,-0.3339351415634155,-0.19644199311733246,0.20727093517780304,0.0570094995200634,-0.4078218936920166,0.15027056634426117,0.32395219802856445,-0.2308526635169983,-0.07504300028085709,0.18131804466247559,-0.4108180105686188,0.3254763185977936,0.13357321918010712,-0.21209287643432617,-0.3250853717327118,0.06526508927345276,-0.009880846366286278,-0.05044041574001312,0.3804146349430084,-0.18852588534355164,-0.236758753657341,-0.02839280292391777,0.04345060884952545,-0.2691158652305603,-0.31573301553726196,-0.1675904542207718,-0.13877618312835693,0.3685392737388611,-0.5134936571121216],\"y\":[0.3581748902797699,0.4489177465438843,0.488741934299469,-0.02699362300336361,0.06930343806743622,0.034571729600429535,0.4142318069934845,0.2051391452550888,0.03199811279773712,0.43791547417640686,-0.37236252427101135,-0.8141207098960876,0.5064429640769958,0.39556100964546204,-0.08816400915384293,0.07528373599052429,-0.1446186751127243,0.06035459414124489,0.12366346269845963,0.4042636454105377,0.25746890902519226,-0.07759836316108704,0.2293027937412262,0.1982547640800476,0.08481460809707642,0.5205118656158447,-0.3812798857688904,-0.05343448370695114,0.02022934891283512,0.4627329409122467,0.3712286353111267,0.17658491432666779,0.3485008180141449,0.47851303219795227,0.191083624958992,0.13813906908035278,0.16065463423728943,0.4158146381378174,0.12684161961078644,-0.03310369700193405,0.38238459825515747,0.3237146735191345,0.26279857754707336,-0.3472846746444702,0.03141400218009949,0.3410821855068207,0.24447289109230042,-0.16108231246471405,0.4056568741798401,-0.275733083486557,0.2520650029182434,-0.09482458233833313,0.21310725808143616,0.29553547501564026,0.11585268378257751,0.2824339270591736,0.42171844840049744,0.4849208891391754,0.06237788125872612,0.18751229345798492,0.014469971880316734,0.05257892608642578,0.384375661611557,0.4060496687889099,0.04236384481191635,0.5458410978317261,0.2529095709323883,0.12048980593681335,0.2139415293931961,0.5124815106391907,0.43155524134635925,-0.01869879849255085,0.17634522914886475,0.4013388752937317,0.43772169947624207,0.288752019405365,0.4617215692996979,-0.17576313018798828,-0.15140607953071594,0.14118465781211853,0.2755306363105774,0.14457421004772186,0.3145451843738556,0.47591885924339294,0.13669170439243317,0.2536618709564209,0.271401584148407,0.13628123700618744,-0.12486990541219711,0.6479591727256775,0.30089136958122253,-0.025953229516744614,0.07200942933559418,0.6239778399467468,-0.10550428181886673,0.3913094103336334,0.32195088267326355,0.16194356977939606,-0.05949850007891655,0.26371079683303833,0.19307257235050201,0.39572077989578247,0.29261401295661926,0.151339590549469,0.07957006245851517,0.3275284767150879,0.5361095070838928,0.15881440043449402,0.1492912918329239,0.19514119625091553,0.05749634653329849,0.03161994367837906,0.2312285453081131,0.13233204185962677,0.4194216728210449,0.6133968234062195,-0.0900101512670517,0.08226332813501358,0.3818338215351105,-0.2368229478597641,0.42632022500038147,0.1365014612674713,0.4610418975353241,0.16290993988513947,0.28136324882507324,0.31320932507514954,-0.2828225791454315,-0.20967406034469604,0.35736313462257385,0.25602129101753235,0.31760117411613464,0.03358163684606552,0.08492511510848999,0.15565332770347595,0.08165311068296432,0.33368927240371704,-0.2914293110370636,0.46537885069847107,-0.03916911780834198,0.5983332395553589,0.4603506922721863,0.2656477093696594,0.1408558189868927,-0.31429943442344666,-0.29757431149482727,0.45249348878860474,-0.20977438986301422,0.1948390007019043,0.2826412618160248,0.49779167771339417,0.08638688176870346,0.5717763900756836,0.12253138422966003,-0.1313629001379013,0.11225200444459915,0.47070327401161194,0.1453399658203125,0.2524664103984833,0.31086739897727966,0.1798151582479477,-0.42616018652915955,0.09914842247962952,-0.011963720433413982,0.278458833694458,0.29316267371177673,0.2223275899887085,-0.23042860627174377,0.45850908756256104,-0.3452429473400116,-0.18407142162322998,-0.059373486787080765,-0.0218015406280756,0.35976651310920715,0.023892784491181374,0.40391436219215393,0.03704722970724106,0.4914383292198181,-0.036041032522916794,0.027304168790578842,-0.0327911451458931,0.14136242866516113,0.38130468130111694,0.21924170851707458,-0.3323509991168976,0.2552379071712494,0.24294184148311615,0.5814175605773926,0.22269190847873688,0.47050175070762634,-0.039020683616399765,0.27868857979774475,0.7908915281295776,-0.03313977271318436,0.01632535643875599,0.3159545660018921,-0.0010138333309441805,0.22464415431022644,-0.0057838051579892635,0.5227985978126526,0.08393210172653198,0.1508893370628357,0.23692664504051208,0.3379840850830078,0.28103774785995483,0.2200412005186081,-0.11191748082637787,0.5105412602424622,0.2091066688299179,-0.3492460548877716,-0.1048121452331543,0.07000445574522018,0.19976094365119934,-0.44826602935791016,0.07346231490373611,0.31129923462867737,0.3705528974533081,0.32074618339538574,0.4933036267757416,0.34054768085479736,0.06695432960987091,0.08089540153741837,0.12469728291034698,-0.04110803082585335,0.02898310124874115,-0.12872374057769775,0.37704357504844666,0.031225524842739105,0.03476644307374954,0.20607051253318787,0.1616590917110443,-0.05836893618106842,0.5789166688919067,-0.4681485891342163,0.056762173771858215,0.6844277381896973,0.41792231798171997,-0.12625369429588318,0.3339722752571106,0.1561904102563858,-0.024287497624754906,-0.29445555806159973,0.0019403592450544238,0.16490614414215088,0.1482977718114853,0.31127500534057617,0.42949044704437256,0.42576658725738525,-0.13618901371955872,-0.011449716053903103,0.19289030134677887,0.1955021470785141,-0.10173581540584564,0.18743984401226044,0.12571479380130768,0.5267441272735596,0.42411965131759644,-0.1805739402770996,0.24603766202926636,-0.04684510454535484,0.05935227870941162,0.5447939038276672,0.3239457309246063,0.12372885644435883,0.015884533524513245,-0.18605484068393707,0.23478268086910248,0.3847386837005615,0.03905508294701576,0.3408706784248352,-0.014208493754267693,0.3979877829551697,0.18844148516654968,0.3227834701538086,0.42492830753326416,0.5170655250549316,-0.130116268992424,0.29845282435417175,0.5085569620132446,0.33794066309928894,0.5912070870399475,0.005186236463487148,-0.05339144915342331,0.13445483148097992,-0.13311639428138733,0.49107369780540466,0.5193138718605042,-0.06950356811285019,0.17288173735141754,-0.7459679841995239,0.12418075650930405,0.39021390676498413,0.40723028779029846,0.26658332347869873,0.2811129689216614,0.23047290742397308,0.045497745275497437,-0.03294559195637703,0.20082271099090576,-0.005337798036634922,0.33333468437194824,-0.0031831273809075356,0.523040771484375,0.5686460137367249,0.24698582291603088,-0.01778404787182808,0.08544983714818954,-0.24944400787353516,0.5007572174072266,-0.17553947865962982,0.4182065427303314,0.13546410202980042,0.17473271489143372,0.19744020700454712,0.21675598621368408,0.009106801822781563,0.23528090119361877,0.14608976244926453,-0.49797967076301575,0.02747790515422821,0.4904438257217407,0.4185745418071747,0.3418397605419159,0.018136808648705482,0.4333142638206482,0.6495545506477356,0.2480899691581726,-0.8605653047561646,0.06565198302268982,0.3707178831100464,0.23052649199962616,0.16569000482559204,-0.04306658357381821,-0.07255145162343979,-0.041410770267248154,0.02848849818110466,-0.21400703489780426,0.07517322897911072,0.4711558520793915,0.1324489712715149,0.2687658667564392,0.2521170973777771,0.1817752867937088,0.2538059651851654,-0.4516914486885071,-0.10748032480478287,0.012711180374026299,0.45581287145614624,0.35966429114341736,0.36861416697502136,-0.15727683901786804,0.05875957012176514,0.07566029578447342,-0.10278087109327316,0.13030490279197693,0.6533828377723694,0.05635007843375206,0.1793668568134308,0.18684834241867065,0.5816623568534851,0.2660125494003296,-0.3411019742488861,0.11843922734260559,0.28633034229278564,-0.15831585228443146,0.32293495535850525,-0.004198326729238033,0.2177756428718567,-0.6204062104225159,0.391360878944397,0.4557839035987854,-0.015359258279204369,0.4786357581615448,0.10565072298049927,0.1763698309659958,-0.0709572583436966,0.5128132700920105,-0.006463109515607357,0.35364288091659546,0.14022783935070038,0.2052871584892273,0.008600752800703049,0.14752031862735748,0.5076791048049927,0.20283888280391693,0.504574179649353,-0.05010265111923218,0.256457656621933,0.551078200340271,0.2308139055967331,0.4024641811847687,0.11506258696317673,0.3565423786640167,0.5060153603553772,0.1824149191379547,0.39575856924057007,0.12020546942949295,0.18999101221561432,0.3511081337928772,-0.2684878706932068,0.1842145323753357,-0.8818824291229248,0.5490527153015137,0.491975873708725,0.13604968786239624,0.5297111868858337,0.1395149677991867,0.4119131565093994,0.10134433209896088,0.02556396834552288,0.2970093786716461,-0.07794599235057831,0.4417217969894409,0.44785234332084656,0.6034522652626038,0.233291357755661,-0.1715003252029419,0.33899638056755066,0.33585911989212036,0.007492413744330406,0.13597849011421204,0.48257899284362793,-0.1002177819609642,0.38587671518325806,0.2979636490345001,0.3909493386745453,0.28244203329086304,0.10275400429964066,0.2890237271785736,0.4901358485221863,0.0801411047577858,0.02700236812233925,0.2848048210144043,-0.8639644384384155,0.011772611178457737,0.15383677184581757,0.1217641532421112,0.4067018926143646,-0.10668250918388367,0.22768305242061615,0.171184241771698,0.31817626953125,0.43138834834098816,0.3153406083583832,-0.13166126608848572,0.38334402441978455,0.07085099071264267,0.34858399629592896,-0.0780007466673851,0.19161920249462128,0.1337377429008484,0.10335969924926758,0.5545369982719421,0.4410485625267029,0.022129923105239868,0.5372459888458252,0.19398309290409088,-0.00013899360783398151,0.412357896566391,0.6060011386871338,-0.07440195232629776,0.3498454988002777,0.024965576827526093,0.08847610652446747,0.23999154567718506,0.550261914730072,-0.2952001690864563,-0.3531525433063507,0.5582410097122192,0.1442866027355194,0.4426496624946594,0.07216713577508926,0.08429352194070816,0.23932921886444092,0.5727791786193848,0.008043147623538971,0.41222813725471497,0.030835740268230438,0.3338889479637146,0.2011793851852417,0.47643741965293884,0.040683962404727936,-0.1384933441877365,0.5303272008895874,0.1945953518152237,-0.4078862965106964,-0.10905195772647858,0.00815308466553688,0.16514897346496582,0.4564574360847473,0.38822007179260254,0.33381178975105286,0.3673565089702606,0.14999227225780487,0.2848454415798187,0.5299324989318848,0.3283568322658539,0.22253365814685822,0.25453224778175354,0.45899510383605957,0.36494743824005127,0.18274132907390594,-0.11818215250968933,0.07473542541265488,0.31692636013031006,-0.11845501512289047,0.29252099990844727,0.26123806834220886,0.3048219382762909,-0.22981664538383484,0.05984079837799072,0.42998915910720825,0.24855011701583862,0.31677383184432983,0.1405789703130722,0.102359339594841,0.11426245421171188,0.22962526977062225,0.41805246472358704,0.5555186867713928,0.22158898413181305,-0.0016289610648527741,0.08927509933710098,0.6687771081924438,0.00922225322574377,0.02637409418821335,0.4474916458129883,0.23746173083782196,0.1274784952402115,0.013982067815959454,-0.018856313079595566,0.013878914527595043,0.41349196434020996,0.2638312876224518,0.13405756652355194,0.5391936302185059,-0.07059453427791595,0.37061628699302673,-0.08815985172986984,0.13126502931118011,0.3559848666191101,0.2248147428035736,0.4900393486022949,-0.16611187160015106,-0.028861455619335175,-0.15923945605754852,0.23666027188301086,-0.331052303314209,0.46841365098953247,0.07600979506969452,0.5087916254997253,0.5006767511367798,0.014988861978054047,-0.1116257980465889,0.4694977402687073,0.4148704707622528,-0.09184404462575912,0.11674334108829498,-0.08615012466907501,0.06259489804506302,0.3308180272579193,0.2042083591222763,0.29257383942604065,0.3719467222690582,0.026272716000676155,-0.06763328611850739,-0.0276810172945261,0.3456408679485321,-0.310198038816452,0.1804591566324234,0.2297881692647934,0.19417725503444672,0.6217869520187378,0.09105711430311203,0.2642902731895447,0.03985188156366348,0.4178447127342224,0.353285551071167,0.0005685461801476777,0.10153436660766602,0.1835479736328125,-0.1018732339143753,-0.03050309792160988,0.3008110225200653,0.16802243888378143,0.03850638121366501,0.12909220159053802,0.15545964241027832,0.5644651651382446,0.12281746417284012,0.00797912199050188,0.014155962504446507,-0.08123423159122467,0.5806922912597656,-0.0027797429356724024,-0.2458973079919815,0.37382972240448,0.4078560471534729,0.30417460203170776,0.030193040147423744,0.12349583953619003,0.13560570776462555,0.13033181428909302,0.4684082269668579,0.2513119876384735,0.34119439125061035,0.23932383954524994,0.439034640789032,0.3598608672618866,0.06739827990531921,0.3719952404499054,-0.18390192091464996,0.1542465090751648,0.08998354524374008,-0.2876492142677307,0.291221022605896,0.4929504096508026,0.10507921874523163,0.24042952060699463,-0.11433776468038559,0.10301588475704193,0.3589227497577667,0.30524513125419617,0.14510610699653625,0.14567860960960388,-0.047767799347639084,0.21131204068660736,-0.016903242096304893,0.5573417544364929,0.42399144172668457,0.04686003550887108,0.04250162094831467,0.3354708254337311,0.5866238474845886,0.3512113094329834,0.18746139109134674,0.1144188791513443,0.4326044023036957,0.12123823165893555,0.42197591066360474,0.08298029750585556,0.18279986083507538,-0.5563548803329468,0.235283762216568,0.3343857526779175,0.6445603370666504,0.17732739448547363,0.41976380348205566,0.32509645819664,0.6064655184745789,-0.06268825381994247,0.16288095712661743,0.29534924030303955,-0.019629092887043953,0.26668205857276917,0.2867635190486908,0.5271603465080261,-0.39593246579170227,0.42912763357162476,0.43774983286857605,0.47825923562049866,0.4114326536655426,0.18114282190799713,0.1069776713848114,0.5339460372924805,0.13256309926509857,0.031965214759111404,-0.02205263078212738,0.11805877834558487,0.5424479246139526,0.12496212869882584,0.41932418942451477,0.32277676463127136,-0.13303428888320923,0.18399056792259216,0.3923005759716034,-0.0940648764371872,0.0053063309751451015,0.2043880671262741,-0.0688968300819397,-0.1599152833223343,0.12338465452194214,0.3584428131580353,0.2634856402873993,0.348288357257843,-0.5609755516052246,0.100215382874012,0.20591172575950623,0.07864081114530563,0.052652303129434586,0.0739625096321106,-0.2269459068775177,0.3951929211616516,-0.061312898993492126,0.5226596593856812,0.4198249578475952,0.07731431722640991,-0.22228209674358368,-0.014041663147509098,0.2778884172439575,-0.07852739840745926,0.1377938985824585,0.1971151977777481,0.4784833788871765,0.49993836879730225,-0.08572039753198624,-0.11314188688993454,0.18154680728912354,-0.24088872969150543,0.4626200795173645,0.19058802723884583,0.37450578808784485,0.03629400581121445,0.15707899630069733,0.13744498789310455,0.19524550437927246,0.001902192016132176,0.5826961398124695,0.208949014544487,0.5099876523017883,-0.036101654171943665,0.08665987104177475,0.0676821693778038,0.12908175587654114,0.32271987199783325,0.321079283952713,0.2865910828113556,0.3725232183933258,0.3834965229034424,0.10464925318956375,-0.046560417860746384,0.414935439825058,0.43015795946121216,0.34005945920944214,0.09291592985391617,0.2874549925327301,0.2126622498035431,0.04871135205030441,0.051874637603759766,0.37736067175865173,-0.056384533643722534,0.5821155905723572,0.4831449091434479,0.23353847861289978,0.2890365421772003,0.20624934136867523,0.13819332420825958,0.14208348095417023,0.35085728764533997,0.13837876915931702,0.2267991602420807,0.45021742582321167,0.29163873195648193,0.40989407896995544,0.3778371810913086,0.6569674611091614,0.2845805883407593,-0.17023597657680511,-0.05197088420391083,0.5022093653678894,0.11350452899932861,0.4161745309829712,0.3832564353942871,0.2213229238986969,0.17326979339122772,0.12819769978523254,-0.10103464126586914,0.2223222851753235,-0.20885026454925537,0.15901173651218414,-0.12893328070640564,-0.11735594272613525,0.009390635415911674,0.27192237973213196,0.04323108121752739,0.5740123987197876,0.520423412322998,0.49015477299690247,0.24333526194095612,0.08280140906572342,0.324727326631546,0.03652725741267204,0.051475197076797485,0.5388237833976746,0.5424189567565918,0.4739609360694885,0.053924791514873505,0.15759560465812683,0.1139146238565445,0.04750725254416466,0.18491917848587036,0.26904231309890747,0.054838940501213074,-0.25762730836868286,-0.004493235144764185,0.037874165922403336,0.176097109913826,0.2921653985977173,0.39831748604774475,0.6014782190322876,0.08629962801933289,0.18580490350723267,0.47513851523399353,0.4307880699634552,0.2600562274456024,0.383277952671051,0.13729828596115112,-0.04277034103870392,-0.021672196686267853,0.15604379773139954,0.3635188043117523,0.20930446684360504,-0.04152234271168709,0.11372517794370651,0.09966836124658585,0.16044224798679352,0.06658609956502914,-0.7570932507514954,0.26461687684059143,0.30920514464378357,0.4820345342159271,0.00025703106075525284,0.2678881883621216,0.2894134521484375,-0.09003622829914093,0.14928038418293,0.14298491179943085,0.14439719915390015,0.1919819712638855,0.0017739051254466176,0.39102253317832947,0.35392946004867554,0.38759320974349976,0.42989787459373474,-0.032226331532001495,-0.25549259781837463,0.24846647679805756,-0.07795630395412445,0.5421045422554016,-0.012900582514703274,0.1956264227628708,-0.2860081195831299,0.5765776634216309,-0.20235581696033478,0.38393640518188477,-0.139315664768219,0.40476980805397034,0.5297703146934509,0.14328190684318542,0.21556447446346283,0.08375097066164017,0.5382744669914246,-0.005304391495883465,0.21761615574359894,0.13077905774116516,0.6266328692436218,0.6376810073852539,-0.44424793124198914,0.2899664640426636,-0.003921244293451309,-0.042449064552783966,0.29484662413597107,0.21506670117378235,0.42864784598350525,-0.24502712488174438,0.19836704432964325,-0.02894817665219307,0.43336135149002075,0.20530077815055847,0.1528579145669937,0.440650075674057,0.005774192977696657,0.2073161005973816,0.4104306995868683,0.29838311672210693,0.14775235950946808,-0.10151757299900055,0.36518752574920654,0.08970391005277634,-0.09478440135717392,0.2750706672668457,-0.13415153324604034,0.5615859627723694,0.5178593993186951,0.03903808817267418,0.2395782321691513,0.25905561447143555,0.04072079434990883,-0.1283400058746338,0.11835268884897232,0.18332819640636444,0.2472948282957077,-0.03379218652844429,0.07257364690303802,0.3609033524990082,0.286085307598114,-0.0177165474742651,0.37521329522132874,0.15217234194278717,0.05198321491479874,0.23178274929523468,-0.4218969941139221,0.2479456514120102,0.39168059825897217,0.17030300199985504,0.010776611045002937,0.36184361577033997,0.5301579236984253,0.2650524973869324,0.4307434856891632,0.4802421033382416,-0.014191484078764915,0.4934034049510956,0.23433764278888702,-0.02577557973563671,0.4872629642486572,-0.022526796907186508,0.058487508445978165,0.4584333896636963,0.47483623027801514,0.0828784629702568,-0.050916705280542374,0.27241289615631104,0.437825083732605,0.139992356300354,0.155318483710289,0.2979087233543396,0.321734756231308,0.02062509022653103,0.2853994071483612,0.03158433362841606,0.03812195733189583,0.3459223508834839,0.385907918214798,0.5831460952758789,-0.0967414379119873,0.22834369540214539,0.4336024820804596,0.11494342982769012,0.31196436285972595,0.04603661224246025,0.18183976411819458,-0.17155882716178894,-0.09010836482048035,0.386832594871521,0.023566290736198425,0.48032522201538086,0.4127624034881592,0.6207466721534729,0.2569836676120758,-0.12991568446159363,-0.06374070793390274,-0.24420888721942902,-0.0628945529460907,0.37284529209136963,0.42570650577545166,0.4775216281414032,0.4120247960090637,0.38284793496131897,0.5358726978302002,0.13786199688911438,0.17221276462078094,0.6159986257553101,0.11970267444849014,-0.13204149901866913,-0.4893115162849426,-0.03842398151755333,0.38761118054389954,0.3079988956451416,0.06827165186405182,-0.13306741416454315,0.21782495081424713,-0.11339142173528671,0.2088405191898346,-0.30577096343040466,-0.03045257367193699,0.5042067170143127,0.2998294532299042,0.32250842452049255,0.21490240097045898,-0.17850902676582336,0.3965130150318146,0.12627218663692474,0.12350323051214218,0.4981957972049713,0.2803493142127991,-0.07490760087966919,0.08281728625297546,0.4105500280857086,0.1343623399734497,0.11476589739322662,-0.012181122787296772,-0.11136600375175476,0.33691662549972534,0.31218069791793823,0.21792811155319214,0.2039898782968521,0.3314785957336426,0.19977135956287384,0.18208391964435577,0.5745229125022888],\"z\":[-0.0550086610019207,-0.020403001457452774,-0.041442085057497025,-0.062146224081516266,0.07774463295936584,-0.1589694619178772,-0.059697460383176804,0.053923074156045914,-0.17891523241996765,-0.08629439771175385,-0.2512827217578888,-0.5010570287704468,0.00328903179615736,-0.11795853078365326,-0.08690851926803589,-0.14612413942813873,0.1117425188422203,0.1698663979768753,0.03310995176434517,0.4215252101421356,-0.1083776205778122,0.17800763249397278,-0.1629820466041565,0.012022675015032291,0.11466264724731445,-0.05503999814391136,-0.1439836472272873,0.03901910409331322,0.3058549165725708,-0.07285477966070175,0.1583404541015625,-0.009051566943526268,-0.03588436171412468,0.02622484602034092,0.02963399514555931,-0.18112149834632874,0.156025230884552,-0.07455236464738846,-0.25389182567596436,-0.07358703017234802,-0.051634036004543304,-0.0054592653177678585,0.0731731578707695,-0.5381960272789001,-0.14745493233203888,-0.0873006135225296,0.06494014710187912,-0.4763414263725281,-0.05535602197051048,-0.33439570665359497,0.19910813868045807,-0.00406572176143527,-0.20136500895023346,-0.013710137456655502,0.2407030314207077,0.05304757133126259,-0.02769007533788681,-0.0642402395606041,0.1283867061138153,0.07779097557067871,0.06610631942749023,0.04991055652499199,-0.06286853551864624,-0.01364586316049099,-0.15265509486198425,-0.04986743628978729,-0.04254292696714401,-0.1734132170677185,0.21056292951107025,-0.05690047889947891,-0.040356434881687164,-0.39528053998947144,0.4934963285923004,-0.01708761230111122,-0.08646243810653687,-0.07165255397558212,0.6931745409965515,-0.4533683657646179,-0.3282855451107025,0.09439066797494888,0.10924777388572693,0.07610327005386353,0.2329050451517105,-0.04171913489699364,0.12021207809448242,-0.11440403759479523,0.04836501553654671,0.09792377054691315,0.34031036496162415,-0.028674615547060966,0.0009326707804575562,0.020980041474103928,0.06537003815174103,-0.03406362980604172,0.09098845720291138,-0.12161220610141754,-0.18570156395435333,-0.1819838583469391,-0.05955039709806442,-0.11439081281423569,-0.07380197197198868,-0.05819878354668617,-0.056215088814496994,0.2555464804172516,-0.1449529379606247,0.1847071349620819,-0.051790136843919754,0.11073040217161179,0.24119463562965393,-0.060058023780584335,-0.17041105031967163,0.15787892043590546,-0.27261507511138916,0.044960781931877136,-0.09896682947874069,-0.03631263226270676,-0.27536630630493164,0.0479990616440773,-0.07596821337938309,-0.2793930172920227,-0.05142756924033165,-0.35813653469085693,-0.027351167052984238,0.09860935062170029,-0.22477106750011444,-0.1375066637992859,-0.17310331761837006,-0.2580820918083191,-0.045274365693330765,-0.07959181070327759,0.045710593461990356,0.06535578519105911,0.008570520207285881,0.153753399848938,0.055123865604400635,-0.024059073999524117,-0.3912363350391388,-0.0061945789493620396,0.08625102043151855,-0.03937740623950958,-0.044849369674921036,0.2402293086051941,-0.018435640260577202,-0.31296026706695557,-0.41558870673179626,-0.07791896164417267,-0.03487091511487961,0.04959268122911453,-0.04024676978588104,-0.0482613667845726,-0.015076357871294022,-0.044605802744627,-0.14263629913330078,-0.13630256056785583,0.03931624814867973,-0.06944867223501205,-0.0379345566034317,0.006497506517916918,0.0020201774314045906,0.12248080223798752,-0.5532285571098328,-0.08886917680501938,0.18843519687652588,0.1096428856253624,-0.12930089235305786,0.07274670153856277,-0.031228233128786087,0.06259484589099884,0.13737428188323975,-0.1903761774301529,0.42884600162506104,-0.3025679290294647,-0.056019127368927,0.16854266822338104,-0.03466033563017845,0.21341611444950104,-0.035602327436208725,-0.18498742580413818,0.028635187074542046,0.3697740137577057,0.27939286828041077,-0.04290423542261124,0.2702580988407135,-0.3902324140071869,-0.028712444007396698,-0.021918583661317825,-0.04275139048695564,-0.10296148806810379,-0.06949812173843384,-0.41468653082847595,0.16234774887561798,0.09080374985933304,-0.2487470507621765,0.11444550007581711,-0.09202282875776291,-0.16089209914207458,0.22128255665302277,-0.4206826984882355,0.013239443302154541,-0.048194464296102524,-0.34575843811035156,0.0023520616814494133,-0.019339438527822495,0.11649958044290543,0.041405219584703445,-0.10036870092153549,-0.05735795199871063,0.1894080489873886,-0.009203098714351654,-0.02717200480401516,-0.07326965779066086,0.04739953204989433,-0.5042941570281982,-0.1439417451620102,0.3147618770599365,-0.049857497215270996,-0.051517996937036514,-0.04143766313791275,-0.04571334645152092,0.1183798760175705,0.18550051748752594,-0.25741493701934814,-0.23654860258102417,-0.15223893523216248,0.23243026435375214,-0.009556910023093224,-0.12226532399654388,0.011482053436338902,0.15813055634498596,0.030257096514105797,0.11576459556818008,-0.021824490278959274,-0.3989793360233307,0.14527249336242676,-0.019047610461711884,-0.10009268671274185,-0.2037123590707779,-0.1175975427031517,0.0636453926563263,0.2586182951927185,-0.29497823119163513,-0.1839582324028015,0.08965755254030228,-0.1642933338880539,0.044580407440662384,-0.05494380742311478,-0.09435418248176575,-0.01434378232806921,0.08356458693742752,-0.014331884682178497,0.1723182648420334,-0.19569124281406403,0.15127697587013245,-0.07359299808740616,-0.05378437042236328,-0.0955243855714798,-0.561910092830658,0.1799134910106659,-0.22276100516319275,-0.21622717380523682,-0.028846701607108116,0.08287565410137177,0.18561188876628876,0.1578686386346817,-0.06440763920545578,0.06929633766412735,-0.12728096544742584,0.14179199934005737,-0.04501743242144585,0.07911840826272964,-0.08392412215471268,0.28722521662712097,0.0856720581650734,-0.09492852538824081,0.0032876385375857353,0.09328256547451019,0.026215488091111183,-0.057762108743190765,-0.0071850670501589775,-0.04072647914290428,-0.06649726629257202,0.1377922147512436,0.015860946848988533,0.11793642491102219,-0.043211862444877625,-0.05539459362626076,-0.10305795073509216,0.19214022159576416,-0.4507516920566559,0.08238040655851364,0.2540009319782257,-0.06287926435470581,-0.1249222680926323,0.15790709853172302,-0.04946950078010559,0.1841862052679062,0.26375091075897217,0.41304856538772583,0.10153771191835403,-0.17489123344421387,0.6032249331474304,0.06619139760732651,-0.045268185436725616,-0.1691291183233261,0.10894278436899185,0.20060521364212036,-0.32819798588752747,-0.00597038771957159,0.08214864134788513,-0.019262313842773438,0.21185453236103058,-0.32453668117523193,-0.01925693266093731,0.16626417636871338,-0.4550666809082031,-0.06706570833921432,-0.04303658753633499,-0.38896775245666504,-0.1692887544631958,-0.012361922301352024,-0.0549916997551918,0.05841634050011635,-0.045897744596004486,-0.0893021672964096,-0.02834775298833847,-0.09177860617637634,-0.000960483739618212,-0.24408675730228424,-0.011780554428696632,0.08248316496610641,0.17467249929904938,0.15575866401195526,-0.23524871468544006,0.3689039349555969,-0.019876662641763687,-0.17913374304771423,0.10289560258388519,-0.02719954587519169,0.09732408076524734,-0.18166792392730713,-0.16408443450927734,0.0993187427520752,0.0009460743749514222,-0.3371324837207794,-0.1526235044002533,0.2388724684715271,-0.0762236937880516,-0.03384501114487648,-0.11213676631450653,0.1643015742301941,-0.11118005216121674,-0.13635706901550293,-0.18439839780330658,0.1049518957734108,-0.027276799082756042,-0.17547188699245453,-0.06447260826826096,0.1344088762998581,-0.042676594108343124,-0.09842647612094879,-0.22722940146923065,-0.019634872674942017,-0.12461961060762405,0.10807257145643234,-0.02137865498661995,-0.37799307703971863,0.0011175492545589805,-0.4605259299278259,-0.03032206930220127,-0.07613253593444824,0.07423161715269089,0.13652963936328888,0.0855151116847992,0.1342884749174118,-0.19835928082466125,-0.029697351157665253,0.16398507356643677,-0.09221076220273972,0.28361329436302185,0.11719892174005508,-0.17175468802452087,-0.05919098109006882,-0.05794721841812134,0.04532233625650406,-0.05878906324505806,0.14755505323410034,-0.2486058920621872,0.011628616601228714,-0.01772848144173622,-0.07104942947626114,-0.09254536777734756,-0.0622454434633255,-0.058434464037418365,0.02352929674088955,-0.0609123632311821,0.153364360332489,-0.2501375079154968,-0.03612550348043442,0.1488620638847351,-0.0238935649394989,-0.11702866852283478,-0.04914180189371109,-0.02363578975200653,-0.077216736972332,0.0018343309639021754,0.051359258592128754,-0.05369652435183525,0.3233746290206909,0.22780631482601166,0.11996155232191086,-0.2156098335981369,-0.05693889409303665,-0.030677814036607742,-0.038341596722602844,0.03381693363189697,-0.2140091210603714,-0.08910990506410599,0.001570014632306993,0.304860383272171,0.15241925418376923,-0.04727102443575859,0.06069810315966606,-0.05650895833969116,0.19292931258678436,-0.07959707826375961,-0.13950511813163757,-0.021092979237437248,-0.11141078174114227,-0.04519246518611908,-0.05099625885486603,0.08847317844629288,0.062141433358192444,-0.023512311279773712,0.4436701834201813,-0.051770199090242386,-0.20024164021015167,-0.10880916565656662,-0.178320050239563,0.05706679821014404,0.020453134551644325,0.12032635509967804,-0.013838394545018673,-0.1921461820602417,-0.15381424129009247,0.22588999569416046,0.13754430413246155,-0.10613638162612915,0.1650121659040451,0.23743408918380737,-0.05442254990339279,-0.20849063992500305,-0.04808297008275986,-0.05308520421385765,0.07954780757427216,-0.051555585116147995,-0.05340991169214249,-0.02681802213191986,0.0065596201457083225,-0.03784215450286865,-0.05961461737751961,0.08077909797430038,-0.22859632968902588,0.1327122002840042,0.01932421885430813,0.040157515555620193,0.038191117346286774,-0.4535143971443176,-0.047338973730802536,0.2334243357181549,-0.011100249364972115,0.14791294932365417,0.12142732739448547,0.08156327158212662,-0.044423747807741165,-0.2763069272041321,-0.03935500979423523,-0.17843279242515564,0.030705977231264114,0.1711723357439041,-0.044031303375959396,-0.07378540933132172,0.16220442950725555,-0.053004324436187744,0.2101319134235382,-0.3165968954563141,-0.04996276646852493,0.24903550744056702,0.21578694880008698,-0.0757676362991333,0.04330166056752205,0.4481571614742279,-0.10134083032608032,0.1699475646018982,0.12159071117639542,-0.05311569571495056,0.19262459874153137,-0.03892121464014053,0.04331526532769203,-0.04444701969623566,-0.14512041211128235,-0.03531999886035919,-0.021325455978512764,-0.002371209906414151,-0.013390401378273964,-0.4275333881378174,0.2394219934940338,-0.0063669634982943535,-0.12791764736175537,-0.29702967405319214,0.3861941993236542,-0.06020278483629227,-0.1173718050122261,0.11609631776809692,-0.22820550203323364,0.23201018571853638,0.051473937928676605,0.011105802841484547,-0.06012604013085365,-0.04792989417910576,0.12752367556095123,0.1201009452342987,0.12205170094966888,-0.0234661977738142,-0.16838769614696503,0.15392373502254486,-0.04859941080212593,0.10155151784420013,0.19226892292499542,-0.0008096096571534872,-0.2686397135257721,0.1389407068490982,-0.10341454297304153,-0.14943404495716095,-0.08135813474655151,-0.05110858008265495,-0.11283156275749207,-0.051509156823158264,0.21898631751537323,0.3252587914466858,0.043963685631752014,0.0338885560631752,-0.06272602081298828,-0.2893899977207184,0.06865373253822327,-0.1802060753107071,-0.17522835731506348,-0.10962050408124924,-0.07037151604890823,0.13030828535556793,-0.05774852633476257,0.08072347939014435,0.294890820980072,-0.3701229989528656,-0.06994802504777908,-0.030453544110059738,-0.004077802412211895,0.0813685804605484,0.09165109694004059,0.17983557283878326,-0.01995415799319744,0.321614146232605,-0.06018536910414696,0.22103095054626465,0.6586014628410339,-0.04002701863646507,0.2821565270423889,-0.049287088215351105,-0.40316927433013916,-0.10182448476552963,-0.017828786745667458,-0.26771026849746704,0.01603602059185505,-0.019532663747668266,-0.19269229471683502,0.3640299439430237,-0.026307130232453346,0.4403294026851654,-0.3328665792942047,-0.15601523220539093,-0.01016425620764494,0.36026784777641296,-0.48066675662994385,0.0850357785820961,0.10098454356193542,-0.14095048606395721,0.023566653952002525,0.1832122951745987,-0.046041060239076614,-0.07791317999362946,0.1345207244157791,0.42068877816200256,0.04980524256825447,-0.012778682634234428,0.10495863109827042,-0.11341796070337296,-0.13707895576953888,0.03849329426884651,-0.05802840366959572,-0.07827425003051758,-0.36912307143211365,-0.2499924898147583,-0.21990638971328735,-0.05552644282579422,-0.2536255717277527,0.11336319893598557,0.07568516582250595,-0.08558955788612366,-0.14988268911838531,0.10362616926431656,-0.017710713669657707,0.023745771497488022,0.06491827219724655,0.05440959706902504,-0.4022522568702698,0.07585041970014572,-0.028935953974723816,-0.12504707276821136,-0.007850313559174538,0.2695083022117615,-0.262353777885437,-0.04906321316957474,-0.10322089493274689,0.039921607822179794,-0.10185063630342484,-0.20380720496177673,-0.05565517395734787,0.07582875341176987,-0.04751627892255783,-0.09569066017866135,-0.021973103284835815,0.1290501058101654,-0.05069813132286072,-0.020986955612897873,-0.05072081461548805,0.032755911350250244,-0.06648505479097366,-0.03872569650411606,-0.06080774590373039,-0.09712998569011688,0.24315720796585083,-0.16111178696155548,-0.4377362132072449,0.19894102215766907,-0.17391826212406158,-0.002387969521805644,0.1050209179520607,-0.009794718585908413,-0.07476308941841125,-0.03774762526154518,-0.16445797681808472,0.11054518818855286,-0.007074800319969654,-0.1314464658498764,0.04152299463748932,-0.1890038400888443,-0.030953243374824524,-0.2513722777366638,-0.06996337324380875,-0.02674669772386551,-0.018629394471645355,-0.04444967582821846,0.10013627260923386,0.11918683350086212,-0.02830563671886921,0.02071898989379406,0.01286828052252531,0.08928269147872925,0.188258096575737,-0.05054311081767082,-0.03079652227461338,-0.060121651738882065,-0.1849227100610733,0.3169705867767334,-0.24821218848228455,-0.035832151770591736,-0.03722304850816727,0.06434373557567596,0.006601111032068729,-0.10364509373903275,0.10207836329936981,0.24446511268615723,0.12425384670495987,-0.12316160649061203,-0.038475628942251205,-0.4416392743587494,0.2842870056629181,-0.010637537576258183,0.021071963012218475,-0.12501579523086548,-0.053733598440885544,0.09712911397218704,-0.07264470309019089,-0.06050612032413483,-0.05461490899324417,-0.0629555955529213,-0.2970278859138489,0.009072761982679367,0.18996067345142365,-0.10649731010198593,-0.2704141139984131,-0.09269913285970688,-0.03697808086872101,-0.06648123264312744,-0.05995112657546997,-0.29198765754699707,-0.019955111667513847,-0.03200178220868111,-0.20131629705429077,-0.030437804758548737,0.04932695999741554,0.03024214692413807,-0.3672656714916229,0.2574223279953003,0.18906553089618683,0.11167557537555695,-0.10856634378433228,-0.04250206798315048,-0.048807188868522644,-0.05744490027427673,-0.156220480799675,0.14595426619052887,0.12874069809913635,-0.17018665373325348,-0.08430998772382736,-0.06813032925128937,-0.2197609543800354,-0.09906818717718124,0.31310340762138367,0.06800595670938492,-0.288581907749176,-0.05987141653895378,-0.027377335354685783,-0.08404652029275894,0.16514411568641663,0.08809608221054077,-0.29007411003112793,-0.09722999483346939,0.24888227880001068,0.06782924383878708,-0.2829028367996216,-0.042586829513311386,-0.06488839536905289,0.06586013734340668,0.08929314464330673,0.14735382795333862,0.029472483322024345,-0.163056880235672,-0.05861447751522064,0.051565345376729965,-0.047420330345630646,-0.07915147393941879,-0.00840058084577322,-0.0732642188668251,-0.04805273935198784,0.006836031097918749,-0.057176001369953156,-0.12920744717121124,0.2158072292804718,-0.05928317457437515,0.262869268655777,-0.10134969651699066,-0.09418059885501862,0.0017100704135373235,0.022336438298225403,0.2629075050354004,0.06384970247745514,0.28956344723701477,-0.2555553913116455,-0.25165876746177673,-0.4055534303188324,-0.3791583180427551,-0.17757517099380493,-0.12393806129693985,0.18474586308002472,-0.04411647096276283,-0.055134184658527374,-0.06263671815395355,0.10737474262714386,-0.13940975069999695,0.006897883489727974,0.08364684879779816,-0.34348568320274353,-0.05124964565038681,-0.050529032945632935,-0.06814861297607422,0.09217098355293274,0.18175745010375977,-0.1026017814874649,0.04408244788646698,-0.03659679368138313,0.16876612603664398,0.11113757640123367,-0.408376544713974,-0.287631630897522,-0.4352165460586548,0.12722240388393402,0.08474986255168915,-0.11561145633459091,-0.03866675868630409,-0.39914873242378235,0.055470049381256104,-0.06765120476484299,-0.06127684935927391,0.1292239874601364,0.06820428371429443,-0.0232144333422184,0.05551528185606003,-0.2475159913301468,-0.07210898399353027,-0.08914637565612793,0.1793668270111084,0.0981510803103447,-0.10369624942541122,0.12895497679710388,-0.22179937362670898,-0.3310813009738922,0.5411598682403564,0.11755236983299255,-0.1533452570438385,-0.030969848856329918,-0.018407875671982765,-0.16352415084838867,-0.0467393584549427,0.13899625837802887,0.06958086043596268,0.3045651912689209,0.14300869405269623,0.10106117278337479,-0.10528692603111267,0.030651453882455826,-0.06120434030890465,-0.1247723326086998,-0.0915301963686943,0.23153901100158691,-0.20601393282413483,0.2537452280521393,0.1664738804101944,-0.05063711851835251,0.15518957376480103,0.11184202134609222,-0.5008882284164429,-0.043690793216228485,-0.3967742919921875,-0.12803244590759277,-0.3278188705444336,-0.039853017777204514,-0.053116124123334885,0.08763723075389862,0.018889404833316803,0.07648991048336029,-0.05133424326777458,0.2293066680431366,0.31793829798698425,-0.21465390920639038,-0.005637011490762234,0.00867113284766674,-0.3139641284942627,0.018661536276340485,-0.19604524970054626,-0.003206990659236908,-0.211869478225708,0.1023462563753128,-0.034876689314842224,0.01250096783041954,0.12203119695186615,0.010626563802361488,-0.08907536417245865,0.11974018067121506,0.10710686445236206,-0.012640793807804585,-0.3536998927593231,-0.0455959290266037,-0.0556306317448616,-0.11414961516857147,0.28798848390579224,0.06910573691129684,-0.03573206812143326,0.20234735310077667,-0.014211959205567837,-0.14419683814048767,-0.050010692328214645,-0.04667133465409279,-0.05567093566060066,0.09350337833166122,-0.06825868785381317,0.15422961115837097,-0.31722062826156616,0.17263294756412506,0.06390587240457535,0.29067954421043396,0.2211560308933258,0.3122287094593048,-0.24848835170269012,0.17475026845932007,-0.05375094711780548,0.03261236846446991,-0.021693596616387367,0.21415533125400543,-0.19447733461856842,-0.01956147886812687,-0.26566779613494873,-0.18377745151519775,-0.0727323442697525,0.0033596549183130264,0.05204048380255699,-0.14809168875217438,-0.053038813173770905,-0.15397422015666962,-0.09088239818811417,-0.04786217585206032,0.2914070785045624,-0.061724793165922165,-0.048178743571043015,0.12922483682632446,-0.06355428695678711,-0.2501539885997772,0.08202075958251953,-0.04055482894182205,0.06611298024654388,0.09130638092756271,0.11644728481769562,0.16362550854682922,-0.04728122055530548,-0.09780438244342804,0.062402043491601944,-0.10573882609605789,-0.047475799918174744,0.14721956849098206,-0.07251942157745361,0.30253395438194275,0.07580921798944473,-0.060121335089206696,-0.126264289021492,-0.04239330813288689,-0.03960168734192848,-0.004165781196206808,-0.08902519941329956,0.09520925581455231,0.19656869769096375,-0.09771329164505005,-0.05124858766794205,-0.21836751699447632,0.1302424818277359,-0.05493100732564926,0.048956528306007385,-0.036073267459869385,0.13332626223564148,0.049537353217601776,-0.19806845486164093,-0.39230576157569885,-0.33250027894973755,-0.37343692779541016,0.18761345744132996,-0.13796454668045044,0.23386150598526,-0.033287085592746735,-0.06353434920310974,-0.05226960405707359,-0.051885392516851425,0.029972651973366737,-0.16049839556217194,-0.035653673112392426,0.024915333837270737,-0.2204108089208603,-0.3527875244617462,0.22775718569755554,-0.12484294921159744,-0.04777827486395836,0.027774622663855553,-0.1881517618894577,-0.06246821954846382,0.23783248662948608,0.09849364310503006,-0.4086700677871704,-0.12124943733215332,0.2290874719619751,-0.08617406338453293,-0.12989352643489838,0.1300615668296814,-0.08511655032634735,-0.07765263319015503,0.4081586003303528,-0.23018896579742432,-0.060414720326662064,0.08459123969078064,0.23963429033756256,-0.07918120920658112,-0.048360906541347504,0.008080357685685158,-0.2622278034687042,0.10696744173765182,0.12206891924142838,-0.037150051444768906,-0.05560522899031639,0.17270398139953613,0.23982293903827667,0.027361620217561722,0.05463441461324692,-0.21776548027992249,0.4372372329235077],\"type\":\"scatter3d\"}],                        {\"template\":{\"data\":{\"histogram2dcontour\":[{\"type\":\"histogram2dcontour\",\"colorbar\":{\"outlinewidth\":0,\"ticks\":\"\"},\"colorscale\":[[0.0,\"#0d0887\"],[0.1111111111111111,\"#46039f\"],[0.2222222222222222,\"#7201a8\"],[0.3333333333333333,\"#9c179e\"],[0.4444444444444444,\"#bd3786\"],[0.5555555555555556,\"#d8576b\"],[0.6666666666666666,\"#ed7953\"],[0.7777777777777778,\"#fb9f3a\"],[0.8888888888888888,\"#fdca26\"],[1.0,\"#f0f921\"]]}],\"choropleth\":[{\"type\":\"choropleth\",\"colorbar\":{\"outlinewidth\":0,\"ticks\":\"\"}}],\"histogram2d\":[{\"type\":\"histogram2d\",\"colorbar\":{\"outlinewidth\":0,\"ticks\":\"\"},\"colorscale\":[[0.0,\"#0d0887\"],[0.1111111111111111,\"#46039f\"],[0.2222222222222222,\"#7201a8\"],[0.3333333333333333,\"#9c179e\"],[0.4444444444444444,\"#bd3786\"],[0.5555555555555556,\"#d8576b\"],[0.6666666666666666,\"#ed7953\"],[0.7777777777777778,\"#fb9f3a\"],[0.8888888888888888,\"#fdca26\"],[1.0,\"#f0f921\"]]}],\"heatmap\":[{\"type\":\"heatmap\",\"colorbar\":{\"outlinewidth\":0,\"ticks\":\"\"},\"colorscale\":[[0.0,\"#0d0887\"],[0.1111111111111111,\"#46039f\"],[0.2222222222222222,\"#7201a8\"],[0.3333333333333333,\"#9c179e\"],[0.4444444444444444,\"#bd3786\"],[0.5555555555555556,\"#d8576b\"],[0.6666666666666666,\"#ed7953\"],[0.7777777777777778,\"#fb9f3a\"],[0.8888888888888888,\"#fdca26\"],[1.0,\"#f0f921\"]]}],\"heatmapgl\":[{\"type\":\"heatmapgl\",\"colorbar\":{\"outlinewidth\":0,\"ticks\":\"\"},\"colorscale\":[[0.0,\"#0d0887\"],[0.1111111111111111,\"#46039f\"],[0.2222222222222222,\"#7201a8\"],[0.3333333333333333,\"#9c179e\"],[0.4444444444444444,\"#bd3786\"],[0.5555555555555556,\"#d8576b\"],[0.6666666666666666,\"#ed7953\"],[0.7777777777777778,\"#fb9f3a\"],[0.8888888888888888,\"#fdca26\"],[1.0,\"#f0f921\"]]}],\"contourcarpet\":[{\"type\":\"contourcarpet\",\"colorbar\":{\"outlinewidth\":0,\"ticks\":\"\"}}],\"contour\":[{\"type\":\"contour\",\"colorbar\":{\"outlinewidth\":0,\"ticks\":\"\"},\"colorscale\":[[0.0,\"#0d0887\"],[0.1111111111111111,\"#46039f\"],[0.2222222222222222,\"#7201a8\"],[0.3333333333333333,\"#9c179e\"],[0.4444444444444444,\"#bd3786\"],[0.5555555555555556,\"#d8576b\"],[0.6666666666666666,\"#ed7953\"],[0.7777777777777778,\"#fb9f3a\"],[0.8888888888888888,\"#fdca26\"],[1.0,\"#f0f921\"]]}],\"surface\":[{\"type\":\"surface\",\"colorbar\":{\"outlinewidth\":0,\"ticks\":\"\"},\"colorscale\":[[0.0,\"#0d0887\"],[0.1111111111111111,\"#46039f\"],[0.2222222222222222,\"#7201a8\"],[0.3333333333333333,\"#9c179e\"],[0.4444444444444444,\"#bd3786\"],[0.5555555555555556,\"#d8576b\"],[0.6666666666666666,\"#ed7953\"],[0.7777777777777778,\"#fb9f3a\"],[0.8888888888888888,\"#fdca26\"],[1.0,\"#f0f921\"]]}],\"mesh3d\":[{\"type\":\"mesh3d\",\"colorbar\":{\"outlinewidth\":0,\"ticks\":\"\"}}],\"scatter\":[{\"fillpattern\":{\"fillmode\":\"overlay\",\"size\":10,\"solidity\":0.2},\"type\":\"scatter\"}],\"parcoords\":[{\"type\":\"parcoords\",\"line\":{\"colorbar\":{\"outlinewidth\":0,\"ticks\":\"\"}}}],\"scatterpolargl\":[{\"type\":\"scatterpolargl\",\"marker\":{\"colorbar\":{\"outlinewidth\":0,\"ticks\":\"\"}}}],\"bar\":[{\"error_x\":{\"color\":\"#2a3f5f\"},\"error_y\":{\"color\":\"#2a3f5f\"},\"marker\":{\"line\":{\"color\":\"#E5ECF6\",\"width\":0.5},\"pattern\":{\"fillmode\":\"overlay\",\"size\":10,\"solidity\":0.2}},\"type\":\"bar\"}],\"scattergeo\":[{\"type\":\"scattergeo\",\"marker\":{\"colorbar\":{\"outlinewidth\":0,\"ticks\":\"\"}}}],\"scatterpolar\":[{\"type\":\"scatterpolar\",\"marker\":{\"colorbar\":{\"outlinewidth\":0,\"ticks\":\"\"}}}],\"histogram\":[{\"marker\":{\"pattern\":{\"fillmode\":\"overlay\",\"size\":10,\"solidity\":0.2}},\"type\":\"histogram\"}],\"scattergl\":[{\"type\":\"scattergl\",\"marker\":{\"colorbar\":{\"outlinewidth\":0,\"ticks\":\"\"}}}],\"scatter3d\":[{\"type\":\"scatter3d\",\"line\":{\"colorbar\":{\"outlinewidth\":0,\"ticks\":\"\"}},\"marker\":{\"colorbar\":{\"outlinewidth\":0,\"ticks\":\"\"}}}],\"scattermapbox\":[{\"type\":\"scattermapbox\",\"marker\":{\"colorbar\":{\"outlinewidth\":0,\"ticks\":\"\"}}}],\"scatterternary\":[{\"type\":\"scatterternary\",\"marker\":{\"colorbar\":{\"outlinewidth\":0,\"ticks\":\"\"}}}],\"scattercarpet\":[{\"type\":\"scattercarpet\",\"marker\":{\"colorbar\":{\"outlinewidth\":0,\"ticks\":\"\"}}}],\"carpet\":[{\"aaxis\":{\"endlinecolor\":\"#2a3f5f\",\"gridcolor\":\"white\",\"linecolor\":\"white\",\"minorgridcolor\":\"white\",\"startlinecolor\":\"#2a3f5f\"},\"baxis\":{\"endlinecolor\":\"#2a3f5f\",\"gridcolor\":\"white\",\"linecolor\":\"white\",\"minorgridcolor\":\"white\",\"startlinecolor\":\"#2a3f5f\"},\"type\":\"carpet\"}],\"table\":[{\"cells\":{\"fill\":{\"color\":\"#EBF0F8\"},\"line\":{\"color\":\"white\"}},\"header\":{\"fill\":{\"color\":\"#C8D4E3\"},\"line\":{\"color\":\"white\"}},\"type\":\"table\"}],\"barpolar\":[{\"marker\":{\"line\":{\"color\":\"#E5ECF6\",\"width\":0.5},\"pattern\":{\"fillmode\":\"overlay\",\"size\":10,\"solidity\":0.2}},\"type\":\"barpolar\"}],\"pie\":[{\"automargin\":true,\"type\":\"pie\"}]},\"layout\":{\"autotypenumbers\":\"strict\",\"colorway\":[\"#636efa\",\"#EF553B\",\"#00cc96\",\"#ab63fa\",\"#FFA15A\",\"#19d3f3\",\"#FF6692\",\"#B6E880\",\"#FF97FF\",\"#FECB52\"],\"font\":{\"color\":\"#2a3f5f\"},\"hovermode\":\"closest\",\"hoverlabel\":{\"align\":\"left\"},\"paper_bgcolor\":\"white\",\"plot_bgcolor\":\"#E5ECF6\",\"polar\":{\"bgcolor\":\"#E5ECF6\",\"angularaxis\":{\"gridcolor\":\"white\",\"linecolor\":\"white\",\"ticks\":\"\"},\"radialaxis\":{\"gridcolor\":\"white\",\"linecolor\":\"white\",\"ticks\":\"\"}},\"ternary\":{\"bgcolor\":\"#E5ECF6\",\"aaxis\":{\"gridcolor\":\"white\",\"linecolor\":\"white\",\"ticks\":\"\"},\"baxis\":{\"gridcolor\":\"white\",\"linecolor\":\"white\",\"ticks\":\"\"},\"caxis\":{\"gridcolor\":\"white\",\"linecolor\":\"white\",\"ticks\":\"\"}},\"coloraxis\":{\"colorbar\":{\"outlinewidth\":0,\"ticks\":\"\"}},\"colorscale\":{\"sequential\":[[0.0,\"#0d0887\"],[0.1111111111111111,\"#46039f\"],[0.2222222222222222,\"#7201a8\"],[0.3333333333333333,\"#9c179e\"],[0.4444444444444444,\"#bd3786\"],[0.5555555555555556,\"#d8576b\"],[0.6666666666666666,\"#ed7953\"],[0.7777777777777778,\"#fb9f3a\"],[0.8888888888888888,\"#fdca26\"],[1.0,\"#f0f921\"]],\"sequentialminus\":[[0.0,\"#0d0887\"],[0.1111111111111111,\"#46039f\"],[0.2222222222222222,\"#7201a8\"],[0.3333333333333333,\"#9c179e\"],[0.4444444444444444,\"#bd3786\"],[0.5555555555555556,\"#d8576b\"],[0.6666666666666666,\"#ed7953\"],[0.7777777777777778,\"#fb9f3a\"],[0.8888888888888888,\"#fdca26\"],[1.0,\"#f0f921\"]],\"diverging\":[[0,\"#8e0152\"],[0.1,\"#c51b7d\"],[0.2,\"#de77ae\"],[0.3,\"#f1b6da\"],[0.4,\"#fde0ef\"],[0.5,\"#f7f7f7\"],[0.6,\"#e6f5d0\"],[0.7,\"#b8e186\"],[0.8,\"#7fbc41\"],[0.9,\"#4d9221\"],[1,\"#276419\"]]},\"xaxis\":{\"gridcolor\":\"white\",\"linecolor\":\"white\",\"ticks\":\"\",\"title\":{\"standoff\":15},\"zerolinecolor\":\"white\",\"automargin\":true,\"zerolinewidth\":2},\"yaxis\":{\"gridcolor\":\"white\",\"linecolor\":\"white\",\"ticks\":\"\",\"title\":{\"standoff\":15},\"zerolinecolor\":\"white\",\"automargin\":true,\"zerolinewidth\":2},\"scene\":{\"xaxis\":{\"backgroundcolor\":\"#E5ECF6\",\"gridcolor\":\"white\",\"linecolor\":\"white\",\"showbackground\":true,\"ticks\":\"\",\"zerolinecolor\":\"white\",\"gridwidth\":2},\"yaxis\":{\"backgroundcolor\":\"#E5ECF6\",\"gridcolor\":\"white\",\"linecolor\":\"white\",\"showbackground\":true,\"ticks\":\"\",\"zerolinecolor\":\"white\",\"gridwidth\":2},\"zaxis\":{\"backgroundcolor\":\"#E5ECF6\",\"gridcolor\":\"white\",\"linecolor\":\"white\",\"showbackground\":true,\"ticks\":\"\",\"zerolinecolor\":\"white\",\"gridwidth\":2}},\"shapedefaults\":{\"line\":{\"color\":\"#2a3f5f\"}},\"annotationdefaults\":{\"arrowcolor\":\"#2a3f5f\",\"arrowhead\":0,\"arrowwidth\":1},\"geo\":{\"bgcolor\":\"white\",\"landcolor\":\"#E5ECF6\",\"subunitcolor\":\"white\",\"showland\":true,\"showlakes\":true,\"lakecolor\":\"white\"},\"title\":{\"x\":0.05},\"mapbox\":{\"style\":\"light\"}}},\"scene\":{\"domain\":{\"x\":[0.0,1.0],\"y\":[0.0,1.0]},\"xaxis\":{\"title\":{\"text\":\"X\"}},\"yaxis\":{\"title\":{\"text\":\"Y\"}},\"zaxis\":{\"title\":{\"text\":\"Z\"}}},\"legend\":{\"tracegroupgap\":0},\"margin\":{\"t\":60}},                        {\"responsive\": true}                    ).then(function(){\n",
              "                            \n",
              "var gd = document.getElementById('d447d761-17b6-4d3c-8de0-c2f829c6a195');\n",
              "var x = new MutationObserver(function (mutations, observer) {{\n",
              "        var display = window.getComputedStyle(gd).display;\n",
              "        if (!display || display === 'none') {{\n",
              "            console.log([gd, 'removed!']);\n",
              "            Plotly.purge(gd);\n",
              "            observer.disconnect();\n",
              "        }}\n",
              "}});\n",
              "\n",
              "// Listen for the removal of the full notebook cells\n",
              "var notebookContainer = gd.closest('#notebook-container');\n",
              "if (notebookContainer) {{\n",
              "    x.observe(notebookContainer, {childList: true});\n",
              "}}\n",
              "\n",
              "// Listen for the clearing of the current output cell\n",
              "var outputEl = gd.closest('.output');\n",
              "if (outputEl) {{\n",
              "    x.observe(outputEl, {childList: true});\n",
              "}}\n",
              "\n",
              "                        })                };                            </script>        </div>\n",
              "</body>\n",
              "</html>"
            ]
          },
          "metadata": {},
          "output_type": "display_data"
        }
      ],
      "source": [
        "fig = px.scatter_3d(df, x='X', y='Y', z='Z')\n",
        "fig.show()"
      ]
    },
    {
      "cell_type": "code",
      "execution_count": null,
      "metadata": {
        "id": "783QUNNoG2Pq"
      },
      "outputs": [],
      "source": []
    }
  ],
  "metadata": {
    "accelerator": "GPU",
    "colab": {
      "provenance": []
    },
    "gpuClass": "standard",
    "kernelspec": {
      "display_name": "Python 3",
      "name": "python3"
    },
    "language_info": {
      "name": "python"
    }
  },
  "nbformat": 4,
  "nbformat_minor": 0
}